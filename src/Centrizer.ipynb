{
 "cells": [
  {
   "cell_type": "code",
   "execution_count": 10,
   "metadata": {},
   "outputs": [],
   "source": [
    "import numpy as np\n",
    "import dlib\n",
    "import os\n",
    "import imutils\n",
    "from imutils import face_utils\n",
    "from collections import OrderedDict\n",
    "import argparse\n",
    "from imutils.face_utils import FaceAligner\n",
    "from imutils.face_utils import rect_to_bb"
   ]
  },
  {
   "cell_type": "code",
   "execution_count": 2,
   "metadata": {},
   "outputs": [],
   "source": [
    "import cv2"
   ]
  },
  {
   "cell_type": "markdown",
   "metadata": {},
   "source": [
    "Центрирование всего, что есть в ../data/images"
   ]
  },
  {
   "cell_type": "code",
   "execution_count": 3,
   "metadata": {},
   "outputs": [],
   "source": [
    "def shape_to_np(shape, dtype=\"int\"):\n",
    "\t# initialize the list of (x, y)-coordinates\n",
    "\tcoords = np.zeros((68, 2), dtype=dtype)\n",
    " \n",
    "\t# loop over the 68 facial landmarks and convert them\n",
    "\t# to a 2-tuple of (x, y)-coordinates\n",
    "\tfor i in range(0, 68):\n",
    "\t\tcoords[i] = (shape.part(i).x, shape.part(i).y)\n",
    " \n",
    "\t# return the list of (x, y)-coordinates\n",
    "\treturn coords"
   ]
  },
  {
   "cell_type": "code",
   "execution_count": 4,
   "metadata": {},
   "outputs": [],
   "source": [
    "FACIAL_LANDMARKS_IDXS = OrderedDict([\n",
    "\t(\"mouth\", (48, 68)),\n",
    "\t(\"right_eyebrow\", (17, 22)),\n",
    "\t(\"left_eyebrow\", (22, 27)),\n",
    "\t(\"right_eye\", (36, 42)),\n",
    "\t(\"left_eye\", (42, 48)),\n",
    "\t(\"nose\", (27, 35)),\n",
    "\t(\"jaw\", (0, 17))\n",
    "])"
   ]
  },
  {
   "cell_type": "code",
   "execution_count": 13,
   "metadata": {},
   "outputs": [
    {
     "name": "stdout",
     "output_type": "stream",
     "text": [
      "Chelentano.jpg was aligned.\n"
     ]
    }
   ],
   "source": [
    "class FaceAligner:\n",
    "    def __init__(self, desiredLeftEye=(0.35, 0.35),\n",
    "        desiredFaceWidth=256, desiredFaceHeight=None):\n",
    "        self.FACIAL_LANDMARKS_IDXS = OrderedDict([\n",
    "            (\"mouth\", (48, 68)),\n",
    "            (\"right_eyebrow\", (17, 22)),\n",
    "            (\"left_eyebrow\", (22, 27)),\n",
    "            (\"right_eye\", (36, 42)),\n",
    "            (\"left_eye\", (42, 48)),\n",
    "            (\"nose\", (27, 35)),\n",
    "            (\"jaw\", (0, 17))\n",
    "        ])\n",
    "        self.detector = dlib.get_frontal_face_detector()\n",
    "        self.predictor = dlib.shape_predictor('models/shape_predictor_68_face_landmarks.dat')\n",
    "        self.desiredLeftEye = desiredLeftEye\n",
    "        self.desiredFaceWidth = desiredFaceWidth\n",
    "        self.desiredFaceHeight = desiredFaceHeight\n",
    "        self.image_path = '../data/images/'\n",
    "        if self.desiredFaceHeight is None:\n",
    "            self.desiredFaceHeight = self.desiredFaceWidth\n",
    "    def align(self, image_name):\n",
    "        image = cv2.imread(self.image_path+image_name)\n",
    "        image = imutils.resize(image, width=800)\n",
    "        gray = cv2.cvtColor(image, cv2.COLOR_BGR2GRAY)\n",
    "        rects = self.detector(gray, 2)\n",
    "        # loop over the face detections\n",
    "        for c, rect in enumerate(rects):\n",
    "            # extract the ROI of the *original* face, then align the face\n",
    "            # using facial landmarks\n",
    "            (x, y, w, h) = rect_to_bb(rect)\n",
    "            faceOrig = imutils.resize(image[y:y + h, x:x + w], width=256)\n",
    "        \n",
    "            # convert the landmark (x, y)-coordinates to a NumPy array\n",
    "            shape = self.predictor(gray, rect)\n",
    "            shape = shape_to_np(shape)\n",
    " \n",
    "            # extract the left and right eye (x, y)-coordinates\n",
    "            (lStart, lEnd) = self.FACIAL_LANDMARKS_IDXS[\"left_eye\"]\n",
    "            (rStart, rEnd) = self.FACIAL_LANDMARKS_IDXS[\"right_eye\"]\n",
    "            leftEyePts = shape[lStart:lEnd]\n",
    "            rightEyePts = shape[rStart:rEnd]\n",
    "            # compute\n",
    "            leftEyeCenter = leftEyePts.mean(axis=0).astype(\"int\")\n",
    "            rightEyeCenter = rightEyePts.mean(axis=0).astype(\"int\")\n",
    "            # compute the angle between the eye centroids\n",
    "            dY = rightEyeCenter[1] - leftEyeCenter[1]\n",
    "            dX = rightEyeCenter[0] - leftEyeCenter[0]\n",
    "            angle = np.degrees(np.arctan2(dY, dX)) - 180\n",
    "            # compute the desired right eye x-coordinate based on the\n",
    "            # desired x-coordinate of the left eye\n",
    "            desiredRightEyeX = 1.0 - self.desiredLeftEye[0]\n",
    "            # determine the scale of the new resulting image by taking\n",
    "            # the ratio of the distance between eyes in the *current*\n",
    "            # image to the ratio of distance between eyes in the\n",
    "            # *desired* image\n",
    "            dist = np.sqrt((dX ** 2) + (dY ** 2))\n",
    "            desiredDist = (desiredRightEyeX - self.desiredLeftEye[0])\n",
    "            desiredDist *= self.desiredFaceWidth\n",
    "            scale = desiredDist / dist\n",
    "            # compute center (x, y)-coordinates (i.e., the median point)\n",
    "            # between the two eyes in the input image\n",
    "            eyesCenter = ((leftEyeCenter[0] + rightEyeCenter[0]) // 2,\n",
    "                (leftEyeCenter[1] + rightEyeCenter[1]) // 2)\n",
    " \n",
    "            # grab the rotation matrix for rotating and scaling the face\n",
    "            M = cv2.getRotationMatrix2D(eyesCenter, angle, scale)\n",
    " \n",
    "            # update the translation component of the matrix\n",
    "            tX = self.desiredFaceWidth * 0.5\n",
    "            tY = self.desiredFaceHeight * self.desiredLeftEye[1]\n",
    "            M[0, 2] += (tX - eyesCenter[0])\n",
    "            M[1, 2] += (tY - eyesCenter[1])\n",
    "            # apply the affine transformation\n",
    "            (w, h) = (self.desiredFaceWidth, self.desiredFaceHeight)\n",
    "            output = cv2.warpAffine(image, M, (w, h),\n",
    "                flags=cv2.INTER_CUBIC)\n",
    "            # apply the affine transformation\n",
    "            (w, h) = (self.desiredFaceWidth, self.desiredFaceHeight)\n",
    "            output = cv2.warpAffine(image, M, (w, h),\n",
    "                flags=cv2.INTER_CUBIC)\n",
    "            print (img_name+\" was aligned.\")\n",
    "            cv2.imwrite('../data/aligned/'+'aligned_' + str(c) + img_name, output)\n",
    "        return\n",
    "\n",
    "path = '../data/images/'\n",
    "fa = FaceAligner(desiredFaceWidth=256)\n",
    "files = os.listdir(path)\n",
    "for img_name in files:\n",
    "    fa.align(img_name)"
   ]
  },
  {
   "cell_type": "markdown",
   "metadata": {},
   "source": [
    "Как же я хорош, как сильны мои скрипты.\n",
    "![Мем](../data/Mem/wolf.jpg)"
   ]
  },
  {
   "cell_type": "code",
   "execution_count": null,
   "metadata": {},
   "outputs": [],
   "source": []
  }
 ],
 "metadata": {
  "kernelspec": {
   "display_name": "Python 3",
   "language": "python",
   "name": "python3"
  },
  "language_info": {
   "codemirror_mode": {
    "name": "ipython",
    "version": 3
   },
   "file_extension": ".py",
   "mimetype": "text/x-python",
   "name": "python",
   "nbconvert_exporter": "python",
   "pygments_lexer": "ipython3",
   "version": "3.7.2"
  }
 },
 "nbformat": 4,
 "nbformat_minor": 2
}
