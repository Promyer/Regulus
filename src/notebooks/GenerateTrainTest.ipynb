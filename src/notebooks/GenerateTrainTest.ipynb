{
 "cells": [
  {
   "cell_type": "code",
   "execution_count": 28,
   "metadata": {},
   "outputs": [],
   "source": [
    "import pandas as pd\n",
    "import numpy as np\n",
    "from sklearn.model_selection import train_test_split"
   ]
  },
  {
   "cell_type": "code",
   "execution_count": 29,
   "metadata": {},
   "outputs": [
    {
     "name": "stdout",
     "output_type": "stream",
     "text": [
      "(460594, 3)\n",
      "                                                urls  age_clusters  ages\n",
      "0  ../../data/imdb_crop/01/nm0000001_rm124825600_...             1    69\n",
      "1  ../../data/imdb_crop/01/nm0000001_rm3343756032...             1    71\n",
      "2  ../../data/imdb_crop/01/nm0000001_rm577153792_...             1    69\n",
      "3  ../../data/imdb_crop/01/nm0000001_rm946909184_...             1    69\n",
      "4  ../../data/imdb_crop/01/nm0000001_rm980463616_...             1    69\n"
     ]
    }
   ],
   "source": [
    "rel_path = '../../'\n",
    "data = pd.read_csv(rel_path+'csv/total.csv', index_col=0)\n",
    "print(data.shape)\n",
    "print(data.head())"
   ]
  },
  {
   "cell_type": "code",
   "execution_count": 52,
   "metadata": {},
   "outputs": [
    {
     "name": "stdout",
     "output_type": "stream",
     "text": [
      "Total croped photos: 8\n"
     ]
    }
   ],
   "source": [
    "import os\n",
    "croped_fnames = os.listdir(rel_path+'data/croped')\n",
    "print('Total croped photos:', len(croped_fnames))"
   ]
  },
  {
   "cell_type": "code",
   "execution_count": 53,
   "metadata": {},
   "outputs": [],
   "source": [
    "old_fnames = []\n",
    "young_fnames = []\n",
    "\n",
    "croped = data.loc[map(lambda url: ('crop_'+url.split('/')[-1]) in croped_fnames, data['urls'])]"
   ]
  },
  {
   "cell_type": "code",
   "execution_count": 60,
   "metadata": {},
   "outputs": [
    {
     "name": "stdout",
     "output_type": "stream",
     "text": [
      "Classes distribution in croped photos:\n",
      "    (array([0, 1, 2]), array([2, 3, 3]))\n"
     ]
    }
   ],
   "source": [
    "print\n",
    "print('Classes distribution in croped photos:')\n",
    "print('   ', np.unique(croped['age_clusters'], return_counts=True))"
   ]
  },
  {
   "cell_type": "code",
   "execution_count": 62,
   "metadata": {},
   "outputs": [],
   "source": [
    "croped_young_old = croped.loc[croped['age_clusters'] != 2]"
   ]
  },
  {
   "cell_type": "code",
   "execution_count": 63,
   "metadata": {},
   "outputs": [],
   "source": [
    "y = croped_young_old.age_clusters\n",
    "X = croped_young_old.drop('age_clusters', axis=1)"
   ]
  },
  {
   "cell_type": "code",
   "execution_count": 64,
   "metadata": {},
   "outputs": [
    {
     "name": "stdout",
     "output_type": "stream",
     "text": [
      "Train size: 4\n",
      "  classes distribution: (array([0, 1]), array([2, 2]))\n",
      "Test size: 1\n",
      "  classes distribution: (array([1]), array([1]))\n"
     ]
    }
   ],
   "source": [
    "# train-test 9:1\n",
    "\n",
    "X_train, X_test, y_train, y_test = train_test_split(X, y, test_size=0.1, random_state=1)\n",
    "print\n",
    "print('Train size:', len(X_train))\n",
    "print('  classes distribution:', np.unique(y_train, return_counts=True))\n",
    "print('Test size:', len(X_test))\n",
    "print('  classes distribution:', np.unique(y_test, return_counts=True))"
   ]
  },
  {
   "cell_type": "code",
   "execution_count": 84,
   "metadata": {},
   "outputs": [
    {
     "name": "stdout",
     "output_type": "stream",
     "text": [
      "Train folders generated\n"
     ]
    }
   ],
   "source": [
    "src_folder = '../../../../data/croped/'\n",
    "dst_folder = rel_path + 'datasets/young2old/train/'\n",
    "\n",
    "for i, row in enumerate(X_train.itertuples()):\n",
    "    photo_url = 'crop_' + row.urls.split('/')[-1]\n",
    "    if y_train.iloc[i] == 0:\n",
    "        dst_class_folder = 'A/'\n",
    "    else:\n",
    "        dst_class_folder = 'B/'\n",
    "    os.symlink(src_folder + photo_url, dst_folder + dst_class_folder + photo_url)\n",
    "print('Train folders generated')"
   ]
  },
  {
   "cell_type": "code",
   "execution_count": 85,
   "metadata": {},
   "outputs": [
    {
     "name": "stdout",
     "output_type": "stream",
     "text": [
      "Test folders generated\n"
     ]
    }
   ],
   "source": [
    "dst_folder = rel_path + 'datasets/young2old/test/'\n",
    "\n",
    "for i, row in enumerate(X_test.itertuples()):\n",
    "    photo_url = 'crop_' + row.urls.split('/')[-1]\n",
    "    if y_test.iloc[i] == 0:\n",
    "        dst_class_folder = 'A/'\n",
    "    else:\n",
    "        dst_class_folder = 'B/'\n",
    "    os.symlink(src_folder + photo_url, dst_folder + dst_class_folder + photo_url)   \n",
    "print('Test folders generated')"
   ]
  },
  {
   "cell_type": "code",
   "execution_count": null,
   "metadata": {},
   "outputs": [],
   "source": []
  }
 ],
 "metadata": {
  "kernelspec": {
   "display_name": "Python 3",
   "language": "python",
   "name": "python3"
  },
  "language_info": {
   "codemirror_mode": {
    "name": "ipython",
    "version": 3
   },
   "file_extension": ".py",
   "mimetype": "text/x-python",
   "name": "python",
   "nbconvert_exporter": "python",
   "pygments_lexer": "ipython3",
   "version": "3.7.2"
  }
 },
 "nbformat": 4,
 "nbformat_minor": 2
}
