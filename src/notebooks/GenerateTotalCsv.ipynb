{
 "cells": [
  {
   "cell_type": "code",
   "execution_count": 1,
   "metadata": {},
   "outputs": [],
   "source": [
    "from scipy.io import loadmat\n",
    "from datetime import datetime, timedelta\n",
    "import numpy as np\n",
    "import pandas as pd"
   ]
  },
  {
   "cell_type": "code",
   "execution_count": 2,
   "metadata": {},
   "outputs": [],
   "source": [
    "mat_arr = loadmat('../../data/imdb_crop/imdb.mat')['imdb']"
   ]
  },
  {
   "cell_type": "markdown",
   "metadata": {},
   "source": [
    "Possible fields in mat files:\n",
    "![matlab_fields.png](images/matlab_fields.png)"
   ]
  },
  {
   "cell_type": "code",
   "execution_count": 4,
   "metadata": {},
   "outputs": [
    {
     "data": {
      "text/plain": [
       "array([array([[1072.926,  161.838, 1214.784,  303.696]]),\n",
       "       array([[477.184, 100.352, 622.592, 245.76 ]]),\n",
       "       array([[114.96964309, 114.96964309, 451.68657236, 451.68657236]]),\n",
       "       ..., array([[  1,   1, 453, 640]], dtype=uint16),\n",
       "       array([[144.75225472, 126.76472288, 305.78804127, 287.80050943]]),\n",
       "       array([[457.524,  41.748, 518.016, 102.24 ]])], dtype=object)"
      ]
     },
     "execution_count": 4,
     "metadata": {},
     "output_type": "execute_result"
    }
   ],
   "source": [
    "face_coords = mat_arr['face_location'][0][0][0]\n",
    "face_coords"
   ]
  },
  {
   "cell_type": "code",
   "execution_count": 5,
   "metadata": {},
   "outputs": [
    {
     "name": "stdout",
     "output_type": "stream",
     "text": [
      "460723\n"
     ]
    },
    {
     "data": {
      "text/plain": [
       "['../data/imdb_crop/01/nm0000001_rm124825600_1899-5-10_1968.jpg',\n",
       " '../data/imdb_crop/01/nm0000001_rm3343756032_1899-5-10_1970.jpg',\n",
       " '../data/imdb_crop/01/nm0000001_rm577153792_1899-5-10_1968.jpg',\n",
       " '../data/imdb_crop/01/nm0000001_rm946909184_1899-5-10_1968.jpg',\n",
       " '../data/imdb_crop/01/nm0000001_rm980463616_1899-5-10_1968.jpg',\n",
       " '../data/imdb_crop/02/nm0000002_rm1075631616_1924-9-16_1991.jpg',\n",
       " '../data/imdb_crop/02/nm0000002_rm1346607872_1924-9-16_2004.jpg',\n",
       " '../data/imdb_crop/02/nm0000002_rm1363385088_1924-9-16_2004.jpg',\n",
       " '../data/imdb_crop/02/nm0000002_rm1411175936_1924-9-16_1991.jpg',\n",
       " '../data/imdb_crop/02/nm0000002_rm1447271168_1924-9-16_2004.jpg']"
      ]
     },
     "execution_count": 5,
     "metadata": {},
     "output_type": "execute_result"
    }
   ],
   "source": [
    "urls = mat_arr['full_path'][0][0][0]\n",
    "urls = list(map(lambda url: '../data/imdb_crop/'+url[0], urls))\n",
    "print(len(urls))\n",
    "urls[:10]"
   ]
  },
  {
   "cell_type": "code",
   "execution_count": 6,
   "metadata": {},
   "outputs": [
    {
     "data": {
      "text/plain": [
       "array([1968, 1970, 1968, 1968, 1968, 1991, 2004, 2004, 1991, 2004],\n",
       "      dtype=uint16)"
      ]
     },
     "execution_count": 6,
     "metadata": {},
     "output_type": "execute_result"
    }
   ],
   "source": [
    "photo_taken = mat_arr['photo_taken'][0][0][0]\n",
    "photo_taken[:10]"
   ]
  },
  {
   "cell_type": "code",
   "execution_count": 7,
   "metadata": {},
   "outputs": [],
   "source": [
    "dob = mat_arr['dob'][0][0][0]"
   ]
  },
  {
   "cell_type": "code",
   "execution_count": 8,
   "metadata": {},
   "outputs": [],
   "source": [
    "year_to_subtr = []\n",
    "broken_idx = []"
   ]
  },
  {
   "cell_type": "code",
   "execution_count": 9,
   "metadata": {},
   "outputs": [
    {
     "name": "stdout",
     "output_type": "stream",
     "text": [
      "record 1 processed, successfully parsed 1 years... \n",
      "record 10001 processed, successfully parsed 10001 years... \n",
      "record 20001 processed, successfully parsed 20001 years... \n",
      "record 30001 processed, successfully parsed 30001 years... \n",
      "record 40001 processed, successfully parsed 40001 years... \n",
      "record 50001 processed, successfully parsed 50001 years... \n",
      "record 60001 processed, successfully parsed 60001 years... \n",
      "record 70001 processed, successfully parsed 70001 years... \n",
      "record 80001 processed, successfully parsed 80001 years... \n",
      "record 90001 processed, successfully parsed 90001 years... \n",
      "record 100001 processed, successfully parsed 100001 years... \n",
      "record 110001 processed, successfully parsed 110001 years... \n",
      "record 120001 processed, successfully parsed 120001 years... \n",
      "record 130001 processed, successfully parsed 130001 years... \n",
      "broken matlab serial number: 139296 357\n",
      "record 140001 processed, successfully parsed 140000 years... \n",
      "record 150001 processed, successfully parsed 150000 years... \n",
      "broken matlab serial number: 157487 142\n",
      "record 160001 processed, successfully parsed 159999 years... \n",
      "record 170001 processed, successfully parsed 169999 years... \n",
      "broken matlab serial number: 178453 323\n",
      "broken matlab serial number: 178454 323\n",
      "broken matlab serial number: 178455 323\n",
      "record 180001 processed, successfully parsed 179996 years... \n",
      "broken matlab serial number: 181489 213\n",
      "broken matlab serial number: 181490 213\n",
      "broken matlab serial number: 181491 213\n",
      "broken matlab serial number: 181492 213\n",
      "broken matlab serial number: 181493 213\n",
      "broken matlab serial number: 181494 213\n",
      "broken matlab serial number: 181495 213\n",
      "broken matlab serial number: 181496 213\n",
      "broken matlab serial number: 181497 213\n",
      "broken matlab serial number: 181498 213\n",
      "broken matlab serial number: 181499 213\n",
      "broken matlab serial number: 181500 213\n",
      "broken matlab serial number: 181501 213\n",
      "broken matlab serial number: 181502 213\n",
      "broken matlab serial number: 181503 213\n",
      "broken matlab serial number: 181504 213\n",
      "broken matlab serial number: 181505 213\n",
      "broken matlab serial number: 181506 213\n",
      "broken matlab serial number: 181507 213\n",
      "broken matlab serial number: 181508 213\n",
      "broken matlab serial number: 184829 294\n",
      "record 190001 processed, successfully parsed 189975 years... \n",
      "record 200001 processed, successfully parsed 199975 years... \n",
      "broken matlab serial number: 204135 232\n",
      "broken matlab serial number: 209757 220\n",
      "broken matlab serial number: 209758 220\n",
      "record 210001 processed, successfully parsed 209972 years... \n",
      "broken matlab serial number: 211098 252\n",
      "broken matlab serial number: 214362 324\n",
      "broken matlab serial number: 214363 324\n",
      "broken matlab serial number: 215330 218\n",
      "broken matlab serial number: 215331 218\n",
      "broken matlab serial number: 215332 218\n",
      "broken matlab serial number: 215333 218\n",
      "broken matlab serial number: 215334 218\n",
      "record 220001 processed, successfully parsed 219964 years... \n",
      "broken matlab serial number: 225738 240\n",
      "broken matlab serial number: 225739 240\n",
      "broken matlab serial number: 225740 240\n",
      "broken matlab serial number: 225754 190\n",
      "broken matlab serial number: 229269 126\n",
      "broken matlab serial number: 229270 126\n",
      "record 230001 processed, successfully parsed 229958 years... \n",
      "broken matlab serial number: 237004 75\n",
      "broken matlab serial number: 237005 75\n",
      "record 240001 processed, successfully parsed 239956 years... \n",
      "record 250001 processed, successfully parsed 249956 years... \n",
      "broken matlab serial number: 252794 364\n",
      "broken matlab serial number: 253788 234\n",
      "broken matlab serial number: 253789 234\n",
      "broken matlab serial number: 253790 234\n",
      "broken matlab serial number: 253791 234\n",
      "broken matlab serial number: 253792 234\n",
      "record 260001 processed, successfully parsed 259950 years... \n",
      "record 270001 processed, successfully parsed 269950 years... \n",
      "broken matlab serial number: 273886 47\n",
      "broken matlab serial number: 273887 47\n",
      "broken matlab serial number: 276173 345\n",
      "record 280001 processed, successfully parsed 279947 years... \n",
      "broken matlab serial number: 287049 291\n",
      "record 290001 processed, successfully parsed 289946 years... \n",
      "record 300001 processed, successfully parsed 299946 years... \n",
      "broken matlab serial number: 302065 221\n",
      "broken matlab serial number: 302066 221\n",
      "broken matlab serial number: 302067 221\n",
      "broken matlab serial number: 302068 221\n",
      "broken matlab serial number: 302069 221\n",
      "broken matlab serial number: 302070 221\n",
      "broken matlab serial number: 302071 221\n",
      "broken matlab serial number: 302072 221\n",
      "broken matlab serial number: 302073 221\n",
      "broken matlab serial number: 302074 221\n",
      "broken matlab serial number: 302075 221\n",
      "broken matlab serial number: 303959 246\n",
      "record 310001 processed, successfully parsed 309934 years... \n",
      "broken matlab serial number: 312180 363\n",
      "broken matlab serial number: 314072 53\n",
      "broken matlab serial number: 314073 53\n",
      "broken matlab serial number: 314074 53\n",
      "broken matlab serial number: 314075 53\n",
      "broken matlab serial number: 317804 249\n",
      "broken matlab serial number: 317805 249\n",
      "broken matlab serial number: 318561 192\n",
      "record 320001 processed, successfully parsed 319926 years... \n",
      "broken matlab serial number: 324170 175\n",
      "broken matlab serial number: 324171 175\n",
      "broken matlab serial number: 324172 175\n",
      "broken matlab serial number: 324173 175\n",
      "broken matlab serial number: 324174 175\n",
      "broken matlab serial number: 324175 175\n",
      "broken matlab serial number: 324176 175\n",
      "broken matlab serial number: 324177 175\n",
      "record 330001 processed, successfully parsed 329918 years... \n",
      "record 340001 processed, successfully parsed 339918 years... \n",
      "record 350001 processed, successfully parsed 349918 years... \n",
      "broken matlab serial number: 350619 345\n",
      "broken matlab serial number: 350620 345\n",
      "broken matlab serial number: 350621 345\n",
      "broken matlab serial number: 350622 345\n",
      "broken matlab serial number: 350623 345\n",
      "broken matlab serial number: 350624 345\n",
      "broken matlab serial number: 357560 281\n",
      "record 360001 processed, successfully parsed 359911 years... \n",
      "broken matlab serial number: 368668 264\n",
      "broken matlab serial number: 368669 264\n",
      "record 370001 processed, successfully parsed 369909 years... \n",
      "record 380001 processed, successfully parsed 379909 years... \n",
      "record 390001 processed, successfully parsed 389909 years... \n",
      "broken matlab serial number: 394817 352\n",
      "broken matlab serial number: 394818 352\n",
      "broken matlab serial number: 394819 352\n",
      "broken matlab serial number: 394820 352\n",
      "broken matlab serial number: 394821 352\n",
      "broken matlab serial number: 394822 352\n",
      "broken matlab serial number: 394823 352\n",
      "broken matlab serial number: 394824 352\n",
      "broken matlab serial number: 394825 352\n",
      "broken matlab serial number: 394826 352\n",
      "broken matlab serial number: 394827 352\n",
      "record 400001 processed, successfully parsed 399898 years... \n",
      "broken matlab serial number: 403215 334\n",
      "broken matlab serial number: 403226 103\n",
      "record 410001 processed, successfully parsed 409896 years... \n",
      "broken matlab serial number: 416991 204\n",
      "broken matlab serial number: 418352 192\n",
      "broken matlab serial number: 418353 192\n",
      "broken matlab serial number: 418354 192\n",
      "broken matlab serial number: 418355 192\n",
      "record 420001 processed, successfully parsed 419891 years... \n",
      "broken matlab serial number: 422404 311\n",
      "record 430001 processed, successfully parsed 429890 years... \n",
      "broken matlab serial number: 431963 276\n",
      "broken matlab serial number: 431964 276\n",
      "broken matlab serial number: 436922 253\n",
      "broken matlab serial number: 436923 253\n",
      "broken matlab serial number: 436924 253\n",
      "broken matlab serial number: 436925 253\n",
      "broken matlab serial number: 436926 253\n",
      "record 440001 processed, successfully parsed 439883 years... \n",
      "broken matlab serial number: 449108 251\n",
      "broken matlab serial number: 449109 251\n",
      "broken matlab serial number: 449110 251\n",
      "broken matlab serial number: 449111 251\n",
      "record 450001 processed, successfully parsed 449879 years... \n",
      "broken matlab serial number: 454409 318\n",
      "broken matlab serial number: 455690 209\n",
      "broken matlab serial number: 455691 209\n",
      "broken matlab serial number: 455692 209\n",
      "broken matlab serial number: 455693 209\n",
      "broken matlab serial number: 455694 209\n",
      "broken matlab serial number: 455695 209\n",
      "record 460001 processed, successfully parsed 459872 years... \n"
     ]
    }
   ],
   "source": [
    "for i, matlab_datenum in enumerate(dob):\n",
    "    try:\n",
    "        dt = timedelta(days=int(matlab_datenum) -366) + datetime(1,1,1)\n",
    "        dt_arr = list(dt.timetuple())\n",
    "        year = dt_arr[0]\n",
    "\n",
    "        # suppose that photo was taken at 1 of July\n",
    "        if dt_arr[1] == 7:\n",
    "            if dt_arr[2] > 1:\n",
    "                year += 1\n",
    "        if dt_arr[1] > 7:\n",
    "            year += 1\n",
    "        year_to_subtr.append(year)\n",
    "    except:\n",
    "        print(\"broken matlab serial number:\", i,  matlab_datenum)\n",
    "        broken_idx.append(i)\n",
    "    if (i % 10000) == 0:\n",
    "         print(\"record\", i+1, \"processed, successfully parsed\", len(year_to_subtr), 'years... ')"
   ]
  },
  {
   "cell_type": "markdown",
   "metadata": {},
   "source": [
    "Вдруг из урла можно получить год рождения"
   ]
  },
  {
   "cell_type": "code",
   "execution_count": 10,
   "metadata": {},
   "outputs": [
    {
     "data": {
      "text/plain": [
       "('../data/imdb_crop/55/nm0005555_rm2332859648_0-11-18_2006.jpg',\n",
       " '../data/imdb_crop/55/nm0005555_rm2469698304_0-11-18_2005.jpg')"
      ]
     },
     "execution_count": 10,
     "metadata": {},
     "output_type": "execute_result"
    }
   ],
   "source": [
    "urls[178453], urls[178454]"
   ]
  },
  {
   "cell_type": "markdown",
   "metadata": {},
   "source": [
    "Дата рождения -- 0_11_18. Видимо, нет. Убираем записи с id из broken_idx"
   ]
  },
  {
   "cell_type": "code",
   "execution_count": 11,
   "metadata": {},
   "outputs": [
    {
     "data": {
      "text/plain": [
       "460594"
      ]
     },
     "execution_count": 11,
     "metadata": {},
     "output_type": "execute_result"
    }
   ],
   "source": [
    "# face_coords = np.delete(face_coords,broken_idx)\n",
    "# face_coords = list(map(lambda coords: coords[0], face_coords))\n",
    "# len(face_coords)"
   ]
  },
  {
   "cell_type": "code",
   "execution_count": 12,
   "metadata": {},
   "outputs": [
    {
     "data": {
      "text/plain": [
       "460594"
      ]
     },
     "execution_count": 12,
     "metadata": {},
     "output_type": "execute_result"
    }
   ],
   "source": [
    "urls = np.delete(urls,broken_idx)\n",
    "len(urls)"
   ]
  },
  {
   "cell_type": "code",
   "execution_count": 13,
   "metadata": {},
   "outputs": [
    {
     "data": {
      "text/plain": [
       "460594"
      ]
     },
     "execution_count": 13,
     "metadata": {},
     "output_type": "execute_result"
    }
   ],
   "source": [
    "len(year_to_subtr)"
   ]
  },
  {
   "cell_type": "code",
   "execution_count": 14,
   "metadata": {},
   "outputs": [
    {
     "data": {
      "text/plain": [
       "460594"
      ]
     },
     "execution_count": 14,
     "metadata": {},
     "output_type": "execute_result"
    }
   ],
   "source": [
    "photo_taken = np.delete(photo_taken,broken_idx)\n",
    "len(photo_taken)"
   ]
  },
  {
   "cell_type": "code",
   "execution_count": 15,
   "metadata": {},
   "outputs": [
    {
     "data": {
      "text/plain": [
       "[69,\n",
       " 71,\n",
       " 69,\n",
       " 69,\n",
       " 69,\n",
       " 66,\n",
       " 79,\n",
       " 79,\n",
       " 66,\n",
       " 79,\n",
       " 83,\n",
       " 66,\n",
       " 49,\n",
       " 82,\n",
       " 49,\n",
       " 81,\n",
       " 81,\n",
       " 81,\n",
       " 81,\n",
       " 79]"
      ]
     },
     "execution_count": 15,
     "metadata": {},
     "output_type": "execute_result"
    }
   ],
   "source": [
    "ages = list(map(lambda taken, yob: taken - yob, photo_taken, year_to_subtr))\n",
    "ages[:20]"
   ]
  },
  {
   "cell_type": "code",
   "execution_count": 58,
   "metadata": {},
   "outputs": [],
   "source": [
    "def age_to_clusters(age):\n",
    "    if age < 25:\n",
    "        return 0\n",
    "    if age > 48:\n",
    "        return 1\n",
    "    return 2"
   ]
  },
  {
   "cell_type": "code",
   "execution_count": 59,
   "metadata": {},
   "outputs": [
    {
     "data": {
      "text/plain": [
       "[1, 1, 1, 1, 1, 1, 1, 1, 1, 1, 1, 1, 1, 1, 1, 1, 1, 1, 1, 1]"
      ]
     },
     "execution_count": 59,
     "metadata": {},
     "output_type": "execute_result"
    }
   ],
   "source": [
    "clusters = list(map(age_to_clusters, ages))\n",
    "clusters[:20]"
   ]
  },
  {
   "cell_type": "code",
   "execution_count": 60,
   "metadata": {},
   "outputs": [
    {
     "data": {
      "text/plain": [
       "(array([0, 1, 2]), array([ 78530,  75579, 306485]))"
      ]
     },
     "execution_count": 60,
     "metadata": {},
     "output_type": "execute_result"
    }
   ],
   "source": [
    "np.unique(clusters, return_counts=True)"
   ]
  },
  {
   "cell_type": "code",
   "execution_count": 66,
   "metadata": {},
   "outputs": [],
   "source": [
    "result = {}\n",
    "result['urls'] = urls\n",
    "result['age_clusters'] = clusters\n",
    "result['ages'] = ages"
   ]
  },
  {
   "cell_type": "code",
   "execution_count": 67,
   "metadata": {},
   "outputs": [
    {
     "name": "stdout",
     "output_type": "stream",
     "text": [
      "(460594, 3)\n"
     ]
    },
    {
     "data": {
      "text/html": [
       "<div>\n",
       "<style scoped>\n",
       "    .dataframe tbody tr th:only-of-type {\n",
       "        vertical-align: middle;\n",
       "    }\n",
       "\n",
       "    .dataframe tbody tr th {\n",
       "        vertical-align: top;\n",
       "    }\n",
       "\n",
       "    .dataframe thead th {\n",
       "        text-align: right;\n",
       "    }\n",
       "</style>\n",
       "<table border=\"1\" class=\"dataframe\">\n",
       "  <thead>\n",
       "    <tr style=\"text-align: right;\">\n",
       "      <th></th>\n",
       "      <th>urls</th>\n",
       "      <th>age_clusters</th>\n",
       "      <th>ages</th>\n",
       "    </tr>\n",
       "  </thead>\n",
       "  <tbody>\n",
       "    <tr>\n",
       "      <th>0</th>\n",
       "      <td>../data/imdb_crop/01/nm0000001_rm124825600_189...</td>\n",
       "      <td>1</td>\n",
       "      <td>69</td>\n",
       "    </tr>\n",
       "    <tr>\n",
       "      <th>1</th>\n",
       "      <td>../data/imdb_crop/01/nm0000001_rm3343756032_18...</td>\n",
       "      <td>1</td>\n",
       "      <td>71</td>\n",
       "    </tr>\n",
       "    <tr>\n",
       "      <th>2</th>\n",
       "      <td>../data/imdb_crop/01/nm0000001_rm577153792_189...</td>\n",
       "      <td>1</td>\n",
       "      <td>69</td>\n",
       "    </tr>\n",
       "    <tr>\n",
       "      <th>3</th>\n",
       "      <td>../data/imdb_crop/01/nm0000001_rm946909184_189...</td>\n",
       "      <td>1</td>\n",
       "      <td>69</td>\n",
       "    </tr>\n",
       "    <tr>\n",
       "      <th>4</th>\n",
       "      <td>../data/imdb_crop/01/nm0000001_rm980463616_189...</td>\n",
       "      <td>1</td>\n",
       "      <td>69</td>\n",
       "    </tr>\n",
       "    <tr>\n",
       "      <th>5</th>\n",
       "      <td>../data/imdb_crop/02/nm0000002_rm1075631616_19...</td>\n",
       "      <td>1</td>\n",
       "      <td>66</td>\n",
       "    </tr>\n",
       "    <tr>\n",
       "      <th>6</th>\n",
       "      <td>../data/imdb_crop/02/nm0000002_rm1346607872_19...</td>\n",
       "      <td>1</td>\n",
       "      <td>79</td>\n",
       "    </tr>\n",
       "    <tr>\n",
       "      <th>7</th>\n",
       "      <td>../data/imdb_crop/02/nm0000002_rm1363385088_19...</td>\n",
       "      <td>1</td>\n",
       "      <td>79</td>\n",
       "    </tr>\n",
       "    <tr>\n",
       "      <th>8</th>\n",
       "      <td>../data/imdb_crop/02/nm0000002_rm1411175936_19...</td>\n",
       "      <td>1</td>\n",
       "      <td>66</td>\n",
       "    </tr>\n",
       "    <tr>\n",
       "      <th>9</th>\n",
       "      <td>../data/imdb_crop/02/nm0000002_rm1447271168_19...</td>\n",
       "      <td>1</td>\n",
       "      <td>79</td>\n",
       "    </tr>\n",
       "    <tr>\n",
       "      <th>10</th>\n",
       "      <td>../data/imdb_crop/02/nm0000002_rm1624085760_19...</td>\n",
       "      <td>1</td>\n",
       "      <td>83</td>\n",
       "    </tr>\n",
       "    <tr>\n",
       "      <th>11</th>\n",
       "      <td>../data/imdb_crop/02/nm0000002_rm1646056960_19...</td>\n",
       "      <td>1</td>\n",
       "      <td>66</td>\n",
       "    </tr>\n",
       "    <tr>\n",
       "      <th>12</th>\n",
       "      <td>../data/imdb_crop/02/nm0000002_rm221957120_192...</td>\n",
       "      <td>1</td>\n",
       "      <td>49</td>\n",
       "    </tr>\n",
       "    <tr>\n",
       "      <th>13</th>\n",
       "      <td>../data/imdb_crop/02/nm0000002_rm2287049216_19...</td>\n",
       "      <td>1</td>\n",
       "      <td>82</td>\n",
       "    </tr>\n",
       "    <tr>\n",
       "      <th>14</th>\n",
       "      <td>../data/imdb_crop/02/nm0000002_rm238734336_192...</td>\n",
       "      <td>1</td>\n",
       "      <td>49</td>\n",
       "    </tr>\n",
       "    <tr>\n",
       "      <th>15</th>\n",
       "      <td>../data/imdb_crop/02/nm0000002_rm2585828096_19...</td>\n",
       "      <td>1</td>\n",
       "      <td>81</td>\n",
       "    </tr>\n",
       "    <tr>\n",
       "      <th>16</th>\n",
       "      <td>../data/imdb_crop/02/nm0000002_rm2602605312_19...</td>\n",
       "      <td>1</td>\n",
       "      <td>81</td>\n",
       "    </tr>\n",
       "    <tr>\n",
       "      <th>17</th>\n",
       "      <td>../data/imdb_crop/02/nm0000002_rm2619382528_19...</td>\n",
       "      <td>1</td>\n",
       "      <td>81</td>\n",
       "    </tr>\n",
       "    <tr>\n",
       "      <th>18</th>\n",
       "      <td>../data/imdb_crop/02/nm0000002_rm2769394176_19...</td>\n",
       "      <td>1</td>\n",
       "      <td>81</td>\n",
       "    </tr>\n",
       "    <tr>\n",
       "      <th>19</th>\n",
       "      <td>../data/imdb_crop/02/nm0000002_rm2780403712_19...</td>\n",
       "      <td>1</td>\n",
       "      <td>79</td>\n",
       "    </tr>\n",
       "  </tbody>\n",
       "</table>\n",
       "</div>"
      ],
      "text/plain": [
       "                                                 urls  age_clusters  ages\n",
       "0   ../data/imdb_crop/01/nm0000001_rm124825600_189...             1    69\n",
       "1   ../data/imdb_crop/01/nm0000001_rm3343756032_18...             1    71\n",
       "2   ../data/imdb_crop/01/nm0000001_rm577153792_189...             1    69\n",
       "3   ../data/imdb_crop/01/nm0000001_rm946909184_189...             1    69\n",
       "4   ../data/imdb_crop/01/nm0000001_rm980463616_189...             1    69\n",
       "5   ../data/imdb_crop/02/nm0000002_rm1075631616_19...             1    66\n",
       "6   ../data/imdb_crop/02/nm0000002_rm1346607872_19...             1    79\n",
       "7   ../data/imdb_crop/02/nm0000002_rm1363385088_19...             1    79\n",
       "8   ../data/imdb_crop/02/nm0000002_rm1411175936_19...             1    66\n",
       "9   ../data/imdb_crop/02/nm0000002_rm1447271168_19...             1    79\n",
       "10  ../data/imdb_crop/02/nm0000002_rm1624085760_19...             1    83\n",
       "11  ../data/imdb_crop/02/nm0000002_rm1646056960_19...             1    66\n",
       "12  ../data/imdb_crop/02/nm0000002_rm221957120_192...             1    49\n",
       "13  ../data/imdb_crop/02/nm0000002_rm2287049216_19...             1    82\n",
       "14  ../data/imdb_crop/02/nm0000002_rm238734336_192...             1    49\n",
       "15  ../data/imdb_crop/02/nm0000002_rm2585828096_19...             1    81\n",
       "16  ../data/imdb_crop/02/nm0000002_rm2602605312_19...             1    81\n",
       "17  ../data/imdb_crop/02/nm0000002_rm2619382528_19...             1    81\n",
       "18  ../data/imdb_crop/02/nm0000002_rm2769394176_19...             1    81\n",
       "19  ../data/imdb_crop/02/nm0000002_rm2780403712_19...             1    79"
      ]
     },
     "execution_count": 67,
     "metadata": {},
     "output_type": "execute_result"
    }
   ],
   "source": [
    "df = pd.DataFrame(result, index=None)\n",
    "print(df.shape)\n",
    "df.head(20)"
   ]
  },
  {
   "cell_type": "code",
   "execution_count": 68,
   "metadata": {},
   "outputs": [],
   "source": [
    "with open('../../csv/total.csv', mode='w', encoding='utf-8') as f_csv:\n",
    "    df.to_csv(f_csv)"
   ]
  },
  {
   "cell_type": "code",
   "execution_count": 69,
   "metadata": {},
   "outputs": [],
   "source": [
    "local_urls = [\n",
    "    '00/nm4415900_rm2517889024_1993-9-9_2015.jpg',\n",
    "    '00/nm0002100_rm985837568_1975-6-18_2011.jpg',\n",
    "    '00/nm0000200_rm2120191744_1955-5-17_2010.jpg',\n",
    "    '00/nm0000100_rm1001569280_1955-1-6_2011.jpg',\n",
    "    '01/nm4652001_rm4133345280_2002-7-23_2013.jpg',\n",
    "    '01/nm2692301_rm3067461376_1984-2-28_2011.jpg',\n",
    "    '01/nm1107001_rm3321071360_1978-9-23_2010.jpg',\n",
    "    '01/nm0365501_rm2791093760_1982-4-6_2011.jpg'\n",
    "]"
   ]
  },
  {
   "cell_type": "code",
   "execution_count": 70,
   "metadata": {},
   "outputs": [
    {
     "name": "stdout",
     "output_type": "stream",
     "text": [
      "['../data/imdb_crop/00/nm4415900_rm2517889024_1993-9-9_2015.jpg', '../data/imdb_crop/00/nm0002100_rm985837568_1975-6-18_2011.jpg', '../data/imdb_crop/00/nm0000200_rm2120191744_1955-5-17_2010.jpg', '../data/imdb_crop/00/nm0000100_rm1001569280_1955-1-6_2011.jpg', '../data/imdb_crop/01/nm4652001_rm4133345280_2002-7-23_2013.jpg', '../data/imdb_crop/01/nm2692301_rm3067461376_1984-2-28_2011.jpg', '../data/imdb_crop/01/nm1107001_rm3321071360_1978-9-23_2010.jpg', '../data/imdb_crop/01/nm0365501_rm2791093760_1982-4-6_2011.jpg']\n"
     ]
    }
   ],
   "source": [
    "local_urls = list(map(lambda url: '../data/imdb_crop/'+url, local_urls))\n",
    "print(local_urls)"
   ]
  },
  {
   "cell_type": "code",
   "execution_count": 71,
   "metadata": {},
   "outputs": [
    {
     "name": "stdout",
     "output_type": "stream",
     "text": [
      "(8, 3)\n"
     ]
    },
    {
     "data": {
      "text/html": [
       "<div>\n",
       "<style scoped>\n",
       "    .dataframe tbody tr th:only-of-type {\n",
       "        vertical-align: middle;\n",
       "    }\n",
       "\n",
       "    .dataframe tbody tr th {\n",
       "        vertical-align: top;\n",
       "    }\n",
       "\n",
       "    .dataframe thead th {\n",
       "        text-align: right;\n",
       "    }\n",
       "</style>\n",
       "<table border=\"1\" class=\"dataframe\">\n",
       "  <thead>\n",
       "    <tr style=\"text-align: right;\">\n",
       "      <th></th>\n",
       "      <th>urls</th>\n",
       "      <th>age_clusters</th>\n",
       "      <th>ages</th>\n",
       "    </tr>\n",
       "  </thead>\n",
       "  <tbody>\n",
       "    <tr>\n",
       "      <th>4012</th>\n",
       "      <td>../data/imdb_crop/00/nm0000100_rm1001569280_19...</td>\n",
       "      <td>1</td>\n",
       "      <td>56</td>\n",
       "    </tr>\n",
       "    <tr>\n",
       "      <th>28610</th>\n",
       "      <td>../data/imdb_crop/00/nm0000200_rm2120191744_19...</td>\n",
       "      <td>1</td>\n",
       "      <td>55</td>\n",
       "    </tr>\n",
       "    <tr>\n",
       "      <th>135422</th>\n",
       "      <td>../data/imdb_crop/00/nm0002100_rm985837568_197...</td>\n",
       "      <td>2</td>\n",
       "      <td>36</td>\n",
       "    </tr>\n",
       "    <tr>\n",
       "      <th>185827</th>\n",
       "      <td>../data/imdb_crop/01/nm1107001_rm3321071360_19...</td>\n",
       "      <td>2</td>\n",
       "      <td>31</td>\n",
       "    </tr>\n",
       "    <tr>\n",
       "      <th>224698</th>\n",
       "      <td>../data/imdb_crop/00/nm4415900_rm2517889024_19...</td>\n",
       "      <td>0</td>\n",
       "      <td>21</td>\n",
       "    </tr>\n",
       "  </tbody>\n",
       "</table>\n",
       "</div>"
      ],
      "text/plain": [
       "                                                     urls  age_clusters  ages\n",
       "4012    ../data/imdb_crop/00/nm0000100_rm1001569280_19...             1    56\n",
       "28610   ../data/imdb_crop/00/nm0000200_rm2120191744_19...             1    55\n",
       "135422  ../data/imdb_crop/00/nm0002100_rm985837568_197...             2    36\n",
       "185827  ../data/imdb_crop/01/nm1107001_rm3321071360_19...             2    31\n",
       "224698  ../data/imdb_crop/00/nm4415900_rm2517889024_19...             0    21"
      ]
     },
     "execution_count": 71,
     "metadata": {},
     "output_type": "execute_result"
    }
   ],
   "source": [
    "df1 = df.loc[df['urls'].isin(local_urls)]\n",
    "print(df1.shape)\n",
    "df1.head()"
   ]
  },
  {
   "cell_type": "code",
   "execution_count": 73,
   "metadata": {},
   "outputs": [],
   "source": [
    "with open('../../csv/total.csv', mode='w', encoding='utf-8') as f_csv:\n",
    "    df1.to_csv(f_csv)"
   ]
  },
  {
   "cell_type": "code",
   "execution_count": null,
   "metadata": {},
   "outputs": [],
   "source": []
  }
 ],
 "metadata": {
  "kernelspec": {
   "display_name": "Python 3",
   "language": "python",
   "name": "python3"
  },
  "language_info": {
   "codemirror_mode": {
    "name": "ipython",
    "version": 3
   },
   "file_extension": ".py",
   "mimetype": "text/x-python",
   "name": "python",
   "nbconvert_exporter": "python",
   "pygments_lexer": "ipython3",
   "version": "3.7.2"
  }
 },
 "nbformat": 4,
 "nbformat_minor": 2
}
