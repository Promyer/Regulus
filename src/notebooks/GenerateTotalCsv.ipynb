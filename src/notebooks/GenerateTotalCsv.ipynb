{
 "cells": [
  {
   "cell_type": "code",
   "execution_count": 1,
   "metadata": {},
   "outputs": [],
   "source": [
    "from scipy.io import loadmat\n",
    "from datetime import datetime, timedelta\n",
    "import numpy as np\n",
    "import pandas as pd"
   ]
  },
  {
   "cell_type": "code",
   "execution_count": 2,
   "metadata": {},
   "outputs": [],
   "source": [
    "mat_arr = loadmat('../../data/imdb_crop/imdb.mat')['imdb']"
   ]
  },
  {
   "cell_type": "markdown",
   "metadata": {},
   "source": [
    "Possible fields in mat files:\n",
    "![matlab_fields.png](images/matlab_fields.png)"
   ]
  },
  {
   "cell_type": "code",
   "execution_count": 3,
   "metadata": {},
   "outputs": [
    {
     "data": {
      "text/plain": [
       "array([array([[1072.926,  161.838, 1214.784,  303.696]]),\n",
       "       array([[477.184, 100.352, 622.592, 245.76 ]]),\n",
       "       array([[114.96964309, 114.96964309, 451.68657236, 451.68657236]]),\n",
       "       ..., array([[  1,   1, 453, 640]], dtype=uint16),\n",
       "       array([[144.75225472, 126.76472288, 305.78804127, 287.80050943]]),\n",
       "       array([[457.524,  41.748, 518.016, 102.24 ]])], dtype=object)"
      ]
     },
     "execution_count": 3,
     "metadata": {},
     "output_type": "execute_result"
    }
   ],
   "source": [
    "face_coords = mat_arr['face_location'][0][0][0]\n",
    "face_coords"
   ]
  },
  {
   "cell_type": "code",
   "execution_count": 41,
   "metadata": {},
   "outputs": [
    {
     "name": "stdout",
     "output_type": "stream",
     "text": [
      "460723\n"
     ]
    },
    {
     "data": {
      "text/plain": [
       "['../data/imdb_crop/01/nm0000001_rm124825600_1899-5-10_1968.jpg',\n",
       " '../data/imdb_crop/01/nm0000001_rm3343756032_1899-5-10_1970.jpg',\n",
       " '../data/imdb_crop/01/nm0000001_rm577153792_1899-5-10_1968.jpg',\n",
       " '../data/imdb_crop/01/nm0000001_rm946909184_1899-5-10_1968.jpg',\n",
       " '../data/imdb_crop/01/nm0000001_rm980463616_1899-5-10_1968.jpg',\n",
       " '../data/imdb_crop/02/nm0000002_rm1075631616_1924-9-16_1991.jpg',\n",
       " '../data/imdb_crop/02/nm0000002_rm1346607872_1924-9-16_2004.jpg',\n",
       " '../data/imdb_crop/02/nm0000002_rm1363385088_1924-9-16_2004.jpg',\n",
       " '../data/imdb_crop/02/nm0000002_rm1411175936_1924-9-16_1991.jpg',\n",
       " '../data/imdb_crop/02/nm0000002_rm1447271168_1924-9-16_2004.jpg']"
      ]
     },
     "execution_count": 41,
     "metadata": {},
     "output_type": "execute_result"
    }
   ],
   "source": [
    "urls = mat_arr['full_path'][0][0][0]\n",
    "urls = list(map(lambda url: '../data/imdb_crop/'+url[0], urls))\n",
    "print(len(urls))\n",
    "urls[:10]"
   ]
  },
  {
   "cell_type": "code",
   "execution_count": 42,
   "metadata": {},
   "outputs": [
    {
     "data": {
      "text/plain": [
       "array([1968, 1970, 1968, 1968, 1968, 1991, 2004, 2004, 1991, 2004],\n",
       "      dtype=uint16)"
      ]
     },
     "execution_count": 42,
     "metadata": {},
     "output_type": "execute_result"
    }
   ],
   "source": [
    "photo_taken = mat_arr['photo_taken'][0][0][0]\n",
    "photo_taken[:10]"
   ]
  },
  {
   "cell_type": "code",
   "execution_count": 43,
   "metadata": {},
   "outputs": [],
   "source": [
    "dob = mat_arr['dob'][0][0][0]"
   ]
  },
  {
   "cell_type": "code",
   "execution_count": 44,
   "metadata": {},
   "outputs": [],
   "source": [
    "year_to_subtr = []\n",
    "broken_idx = []"
   ]
  },
  {
   "cell_type": "code",
   "execution_count": 45,
   "metadata": {},
   "outputs": [
    {
     "name": "stdout",
     "output_type": "stream",
     "text": [
      "record 1 processed, successfully parsed 1 years... \n",
      "record 10001 processed, successfully parsed 10001 years... \n",
      "record 20001 processed, successfully parsed 20001 years... \n",
      "record 30001 processed, successfully parsed 30001 years... \n",
      "record 40001 processed, successfully parsed 40001 years... \n",
      "record 50001 processed, successfully parsed 50001 years... \n",
      "record 60001 processed, successfully parsed 60001 years... \n",
      "record 70001 processed, successfully parsed 70001 years... \n",
      "record 80001 processed, successfully parsed 80001 years... \n",
      "record 90001 processed, successfully parsed 90001 years... \n",
      "record 100001 processed, successfully parsed 100001 years... \n",
      "record 110001 processed, successfully parsed 110001 years... \n",
      "record 120001 processed, successfully parsed 120001 years... \n",
      "record 130001 processed, successfully parsed 130001 years... \n",
      "broken matlab serial number: 139296 357\n",
      "record 140001 processed, successfully parsed 140000 years... \n",
      "record 150001 processed, successfully parsed 150000 years... \n",
      "broken matlab serial number: 157487 142\n",
      "record 160001 processed, successfully parsed 159999 years... \n",
      "record 170001 processed, successfully parsed 169999 years... \n",
      "broken matlab serial number: 178453 323\n",
      "broken matlab serial number: 178454 323\n",
      "broken matlab serial number: 178455 323\n",
      "record 180001 processed, successfully parsed 179996 years... \n",
      "broken matlab serial number: 181489 213\n",
      "broken matlab serial number: 181490 213\n",
      "broken matlab serial number: 181491 213\n",
      "broken matlab serial number: 181492 213\n",
      "broken matlab serial number: 181493 213\n",
      "broken matlab serial number: 181494 213\n",
      "broken matlab serial number: 181495 213\n",
      "broken matlab serial number: 181496 213\n",
      "broken matlab serial number: 181497 213\n",
      "broken matlab serial number: 181498 213\n",
      "broken matlab serial number: 181499 213\n",
      "broken matlab serial number: 181500 213\n",
      "broken matlab serial number: 181501 213\n",
      "broken matlab serial number: 181502 213\n",
      "broken matlab serial number: 181503 213\n",
      "broken matlab serial number: 181504 213\n",
      "broken matlab serial number: 181505 213\n",
      "broken matlab serial number: 181506 213\n",
      "broken matlab serial number: 181507 213\n",
      "broken matlab serial number: 181508 213\n",
      "broken matlab serial number: 184829 294\n",
      "record 190001 processed, successfully parsed 189975 years... \n",
      "record 200001 processed, successfully parsed 199975 years... \n",
      "broken matlab serial number: 204135 232\n",
      "broken matlab serial number: 209757 220\n",
      "broken matlab serial number: 209758 220\n",
      "record 210001 processed, successfully parsed 209972 years... \n",
      "broken matlab serial number: 211098 252\n",
      "broken matlab serial number: 214362 324\n",
      "broken matlab serial number: 214363 324\n",
      "broken matlab serial number: 215330 218\n",
      "broken matlab serial number: 215331 218\n",
      "broken matlab serial number: 215332 218\n",
      "broken matlab serial number: 215333 218\n",
      "broken matlab serial number: 215334 218\n",
      "record 220001 processed, successfully parsed 219964 years... \n",
      "broken matlab serial number: 225738 240\n",
      "broken matlab serial number: 225739 240\n",
      "broken matlab serial number: 225740 240\n",
      "broken matlab serial number: 225754 190\n",
      "broken matlab serial number: 229269 126\n",
      "broken matlab serial number: 229270 126\n",
      "record 230001 processed, successfully parsed 229958 years... \n",
      "broken matlab serial number: 237004 75\n",
      "broken matlab serial number: 237005 75\n",
      "record 240001 processed, successfully parsed 239956 years... \n",
      "record 250001 processed, successfully parsed 249956 years... \n",
      "broken matlab serial number: 252794 364\n",
      "broken matlab serial number: 253788 234\n",
      "broken matlab serial number: 253789 234\n",
      "broken matlab serial number: 253790 234\n",
      "broken matlab serial number: 253791 234\n",
      "broken matlab serial number: 253792 234\n",
      "record 260001 processed, successfully parsed 259950 years... \n",
      "record 270001 processed, successfully parsed 269950 years... \n",
      "broken matlab serial number: 273886 47\n",
      "broken matlab serial number: 273887 47\n",
      "broken matlab serial number: 276173 345\n",
      "record 280001 processed, successfully parsed 279947 years... \n",
      "broken matlab serial number: 287049 291\n",
      "record 290001 processed, successfully parsed 289946 years... \n",
      "record 300001 processed, successfully parsed 299946 years... \n",
      "broken matlab serial number: 302065 221\n",
      "broken matlab serial number: 302066 221\n",
      "broken matlab serial number: 302067 221\n",
      "broken matlab serial number: 302068 221\n",
      "broken matlab serial number: 302069 221\n",
      "broken matlab serial number: 302070 221\n",
      "broken matlab serial number: 302071 221\n",
      "broken matlab serial number: 302072 221\n",
      "broken matlab serial number: 302073 221\n",
      "broken matlab serial number: 302074 221\n",
      "broken matlab serial number: 302075 221\n",
      "broken matlab serial number: 303959 246\n",
      "record 310001 processed, successfully parsed 309934 years... \n",
      "broken matlab serial number: 312180 363\n",
      "broken matlab serial number: 314072 53\n",
      "broken matlab serial number: 314073 53\n",
      "broken matlab serial number: 314074 53\n",
      "broken matlab serial number: 314075 53\n",
      "broken matlab serial number: 317804 249\n",
      "broken matlab serial number: 317805 249\n",
      "broken matlab serial number: 318561 192\n",
      "record 320001 processed, successfully parsed 319926 years... \n",
      "broken matlab serial number: 324170 175\n",
      "broken matlab serial number: 324171 175\n",
      "broken matlab serial number: 324172 175\n",
      "broken matlab serial number: 324173 175\n",
      "broken matlab serial number: 324174 175\n",
      "broken matlab serial number: 324175 175\n",
      "broken matlab serial number: 324176 175\n",
      "broken matlab serial number: 324177 175\n",
      "record 330001 processed, successfully parsed 329918 years... \n",
      "record 340001 processed, successfully parsed 339918 years... \n",
      "record 350001 processed, successfully parsed 349918 years... \n",
      "broken matlab serial number: 350619 345\n",
      "broken matlab serial number: 350620 345\n",
      "broken matlab serial number: 350621 345\n",
      "broken matlab serial number: 350622 345\n",
      "broken matlab serial number: 350623 345\n",
      "broken matlab serial number: 350624 345\n",
      "broken matlab serial number: 357560 281\n",
      "record 360001 processed, successfully parsed 359911 years... \n",
      "broken matlab serial number: 368668 264\n",
      "broken matlab serial number: 368669 264\n",
      "record 370001 processed, successfully parsed 369909 years... \n",
      "record 380001 processed, successfully parsed 379909 years... \n",
      "record 390001 processed, successfully parsed 389909 years... \n",
      "broken matlab serial number: 394817 352\n",
      "broken matlab serial number: 394818 352\n",
      "broken matlab serial number: 394819 352\n",
      "broken matlab serial number: 394820 352\n",
      "broken matlab serial number: 394821 352\n",
      "broken matlab serial number: 394822 352\n",
      "broken matlab serial number: 394823 352\n",
      "broken matlab serial number: 394824 352\n",
      "broken matlab serial number: 394825 352\n",
      "broken matlab serial number: 394826 352\n",
      "broken matlab serial number: 394827 352\n",
      "record 400001 processed, successfully parsed 399898 years... \n",
      "broken matlab serial number: 403215 334\n",
      "broken matlab serial number: 403226 103\n",
      "record 410001 processed, successfully parsed 409896 years... \n",
      "broken matlab serial number: 416991 204\n",
      "broken matlab serial number: 418352 192\n",
      "broken matlab serial number: 418353 192\n",
      "broken matlab serial number: 418354 192\n",
      "broken matlab serial number: 418355 192\n",
      "record 420001 processed, successfully parsed 419891 years... \n",
      "broken matlab serial number: 422404 311\n",
      "record 430001 processed, successfully parsed 429890 years... \n",
      "broken matlab serial number: 431963 276\n",
      "broken matlab serial number: 431964 276\n",
      "broken matlab serial number: 436922 253\n",
      "broken matlab serial number: 436923 253\n",
      "broken matlab serial number: 436924 253\n",
      "broken matlab serial number: 436925 253\n",
      "broken matlab serial number: 436926 253\n",
      "record 440001 processed, successfully parsed 439883 years... \n",
      "broken matlab serial number: 449108 251\n",
      "broken matlab serial number: 449109 251\n",
      "broken matlab serial number: 449110 251\n",
      "broken matlab serial number: 449111 251\n",
      "record 450001 processed, successfully parsed 449879 years... \n",
      "broken matlab serial number: 454409 318\n",
      "broken matlab serial number: 455690 209\n",
      "broken matlab serial number: 455691 209\n",
      "broken matlab serial number: 455692 209\n",
      "broken matlab serial number: 455693 209\n",
      "broken matlab serial number: 455694 209\n",
      "broken matlab serial number: 455695 209\n",
      "record 460001 processed, successfully parsed 459872 years... \n"
     ]
    }
   ],
   "source": [
    "for i, matlab_datenum in enumerate(dob):\n",
    "    try:\n",
    "        dt = timedelta(days=int(matlab_datenum) -366) + datetime(1,1,1)\n",
    "        dt_arr = list(dt.timetuple())\n",
    "        year = dt_arr[0]\n",
    "\n",
    "        # suppose that photo was taken at 1 of July\n",
    "        if dt_arr[1] == 7:\n",
    "            if dt_arr[2] > 1:\n",
    "                year += 1\n",
    "        if dt_arr[1] > 7:\n",
    "            year += 1\n",
    "        year_to_subtr.append(year)\n",
    "    except:\n",
    "        print(\"broken matlab serial number:\", i,  matlab_datenum)\n",
    "        broken_idx.append(i)\n",
    "    if (i % 10000) == 0:\n",
    "         print(\"record\", i+1, \"processed, successfully parsed\", len(year_to_subtr), 'years... ')"
   ]
  },
  {
   "cell_type": "markdown",
   "metadata": {},
   "source": [
    "Вдруг из урла можно получить год рождения"
   ]
  },
  {
   "cell_type": "code",
   "execution_count": 46,
   "metadata": {},
   "outputs": [
    {
     "data": {
      "text/plain": [
       "('../data/imdb_crop/55/nm0005555_rm2332859648_0-11-18_2006.jpg',\n",
       " '../data/imdb_crop/55/nm0005555_rm2469698304_0-11-18_2005.jpg')"
      ]
     },
     "execution_count": 46,
     "metadata": {},
     "output_type": "execute_result"
    }
   ],
   "source": [
    "urls[178453], urls[178454]"
   ]
  },
  {
   "cell_type": "markdown",
   "metadata": {},
   "source": [
    "Дата рождения -- 0_11_18. Видимо, нет. Убираем записи с id из broken_idx"
   ]
  },
  {
   "cell_type": "code",
   "execution_count": 47,
   "metadata": {},
   "outputs": [
    {
     "data": {
      "text/plain": [
       "460594"
      ]
     },
     "execution_count": 47,
     "metadata": {},
     "output_type": "execute_result"
    }
   ],
   "source": [
    "face_coords = np.delete(face_coords,broken_idx)\n",
    "face_coords = list(map(lambda coords: coords[0], face_coords))\n",
    "len(face_coords)"
   ]
  },
  {
   "cell_type": "code",
   "execution_count": 48,
   "metadata": {},
   "outputs": [
    {
     "data": {
      "text/plain": [
       "460594"
      ]
     },
     "execution_count": 48,
     "metadata": {},
     "output_type": "execute_result"
    }
   ],
   "source": [
    "urls = np.delete(urls,broken_idx)\n",
    "len(urls)"
   ]
  },
  {
   "cell_type": "code",
   "execution_count": 49,
   "metadata": {},
   "outputs": [
    {
     "data": {
      "text/plain": [
       "460594"
      ]
     },
     "execution_count": 49,
     "metadata": {},
     "output_type": "execute_result"
    }
   ],
   "source": [
    "len(year_to_subtr)"
   ]
  },
  {
   "cell_type": "code",
   "execution_count": 50,
   "metadata": {},
   "outputs": [
    {
     "data": {
      "text/plain": [
       "460594"
      ]
     },
     "execution_count": 50,
     "metadata": {},
     "output_type": "execute_result"
    }
   ],
   "source": [
    "photo_taken = np.delete(photo_taken,broken_idx)\n",
    "len(photo_taken)"
   ]
  },
  {
   "cell_type": "code",
   "execution_count": 51,
   "metadata": {},
   "outputs": [
    {
     "data": {
      "text/plain": [
       "[69,\n",
       " 71,\n",
       " 69,\n",
       " 69,\n",
       " 69,\n",
       " 66,\n",
       " 79,\n",
       " 79,\n",
       " 66,\n",
       " 79,\n",
       " 83,\n",
       " 66,\n",
       " 49,\n",
       " 82,\n",
       " 49,\n",
       " 81,\n",
       " 81,\n",
       " 81,\n",
       " 81,\n",
       " 79]"
      ]
     },
     "execution_count": 51,
     "metadata": {},
     "output_type": "execute_result"
    }
   ],
   "source": [
    "ages = list(map(lambda taken, yob: taken - yob, photo_taken, year_to_subtr))\n",
    "ages[:20]"
   ]
  },
  {
   "cell_type": "code",
   "execution_count": 52,
   "metadata": {},
   "outputs": [],
   "source": [
    "def age_to_clusters(age):\n",
    "    if age < 14:\n",
    "        return 0\n",
    "    if age < 26:\n",
    "        return 1\n",
    "    if age < 46:\n",
    "        return 2\n",
    "    if age < 66:\n",
    "        return 3\n",
    "    return 4"
   ]
  },
  {
   "cell_type": "code",
   "execution_count": 53,
   "metadata": {},
   "outputs": [
    {
     "data": {
      "text/plain": [
       "[4, 4, 4, 4, 4, 4, 4, 4, 4, 4, 4, 4, 3, 4, 3, 4, 4, 4, 4, 4]"
      ]
     },
     "execution_count": 53,
     "metadata": {},
     "output_type": "execute_result"
    }
   ],
   "source": [
    "clusters = list(map(age_to_clusters, ages))\n",
    "clusters[:20]"
   ]
  },
  {
   "cell_type": "code",
   "execution_count": 54,
   "metadata": {},
   "outputs": [
    {
     "data": {
      "text/plain": [
       "(array([0, 1, 2, 3, 4]), array([ 10348,  80471, 271432,  84596,  13747]))"
      ]
     },
     "execution_count": 54,
     "metadata": {},
     "output_type": "execute_result"
    }
   ],
   "source": [
    "np.unique(clusters, return_counts=True)"
   ]
  },
  {
   "cell_type": "code",
   "execution_count": 55,
   "metadata": {},
   "outputs": [],
   "source": [
    "result = {}\n",
    "result['urls'] = urls\n",
    "result['face_coords'] = face_coords\n",
    "result['age_cluster'] = clusters\n"
   ]
  },
  {
   "cell_type": "code",
   "execution_count": 69,
   "metadata": {},
   "outputs": [
    {
     "name": "stdout",
     "output_type": "stream",
     "text": [
      "(460594, 3)\n"
     ]
    },
    {
     "data": {
      "text/html": [
       "<div>\n",
       "<style scoped>\n",
       "    .dataframe tbody tr th:only-of-type {\n",
       "        vertical-align: middle;\n",
       "    }\n",
       "\n",
       "    .dataframe tbody tr th {\n",
       "        vertical-align: top;\n",
       "    }\n",
       "\n",
       "    .dataframe thead th {\n",
       "        text-align: right;\n",
       "    }\n",
       "</style>\n",
       "<table border=\"1\" class=\"dataframe\">\n",
       "  <thead>\n",
       "    <tr style=\"text-align: right;\">\n",
       "      <th></th>\n",
       "      <th>urls</th>\n",
       "      <th>face_coords</th>\n",
       "      <th>age_cluster</th>\n",
       "    </tr>\n",
       "  </thead>\n",
       "  <tbody>\n",
       "    <tr>\n",
       "      <th>0</th>\n",
       "      <td>../data/imdb_crop/01/nm0000001_rm124825600_189...</td>\n",
       "      <td>[1072.926, 161.838, 1214.7839999999999, 303.69...</td>\n",
       "      <td>4</td>\n",
       "    </tr>\n",
       "    <tr>\n",
       "      <th>1</th>\n",
       "      <td>../data/imdb_crop/01/nm0000001_rm3343756032_18...</td>\n",
       "      <td>[477.184, 100.352, 622.592, 245.76]</td>\n",
       "      <td>4</td>\n",
       "    </tr>\n",
       "    <tr>\n",
       "      <th>2</th>\n",
       "      <td>../data/imdb_crop/01/nm0000001_rm577153792_189...</td>\n",
       "      <td>[114.96964308962852, 114.96964308962852, 451.6...</td>\n",
       "      <td>4</td>\n",
       "    </tr>\n",
       "    <tr>\n",
       "      <th>3</th>\n",
       "      <td>../data/imdb_crop/01/nm0000001_rm946909184_189...</td>\n",
       "      <td>[622.8855056426588, 424.21750383700805, 844.33...</td>\n",
       "      <td>4</td>\n",
       "    </tr>\n",
       "    <tr>\n",
       "      <th>4</th>\n",
       "      <td>../data/imdb_crop/01/nm0000001_rm980463616_189...</td>\n",
       "      <td>[1013.8590023603723, 233.8820422075853, 1201.5...</td>\n",
       "      <td>4</td>\n",
       "    </tr>\n",
       "    <tr>\n",
       "      <th>5</th>\n",
       "      <td>../data/imdb_crop/02/nm0000002_rm1075631616_19...</td>\n",
       "      <td>[686.6768205940973, 458.4672137293982, 1198.10...</td>\n",
       "      <td>4</td>\n",
       "    </tr>\n",
       "    <tr>\n",
       "      <th>6</th>\n",
       "      <td>../data/imdb_crop/02/nm0000002_rm1346607872_19...</td>\n",
       "      <td>[78.23569406558903, 52.335129377059346, 194.25...</td>\n",
       "      <td>4</td>\n",
       "    </tr>\n",
       "    <tr>\n",
       "      <th>7</th>\n",
       "      <td>../data/imdb_crop/02/nm0000002_rm1363385088_19...</td>\n",
       "      <td>[64.30867103752385, 64.30867103752385, 207.267...</td>\n",
       "      <td>4</td>\n",
       "    </tr>\n",
       "    <tr>\n",
       "      <th>8</th>\n",
       "      <td>../data/imdb_crop/02/nm0000002_rm1411175936_19...</td>\n",
       "      <td>[212.7672369223355, 1055.6441846116777, 526.79...</td>\n",
       "      <td>4</td>\n",
       "    </tr>\n",
       "    <tr>\n",
       "      <th>9</th>\n",
       "      <td>../data/imdb_crop/02/nm0000002_rm1447271168_19...</td>\n",
       "      <td>[242.176, 49.664, 278.528, 86.016]</td>\n",
       "      <td>4</td>\n",
       "    </tr>\n",
       "    <tr>\n",
       "      <th>10</th>\n",
       "      <td>../data/imdb_crop/02/nm0000002_rm1624085760_19...</td>\n",
       "      <td>[108.03894850648923, 28.82624960697085, 158.42...</td>\n",
       "      <td>4</td>\n",
       "    </tr>\n",
       "    <tr>\n",
       "      <th>11</th>\n",
       "      <td>../data/imdb_crop/02/nm0000002_rm1646056960_19...</td>\n",
       "      <td>[72.28774564077851, 1055.6441846116777, 386.31...</td>\n",
       "      <td>4</td>\n",
       "    </tr>\n",
       "    <tr>\n",
       "      <th>12</th>\n",
       "      <td>../data/imdb_crop/02/nm0000002_rm221957120_192...</td>\n",
       "      <td>[3173.144692593433, 401.0408365741791, 4059.15...</td>\n",
       "      <td>3</td>\n",
       "    </tr>\n",
       "    <tr>\n",
       "      <th>13</th>\n",
       "      <td>../data/imdb_crop/02/nm0000002_rm2287049216_19...</td>\n",
       "      <td>[138.80620247948153, 33.92673852953003, 181.15...</td>\n",
       "      <td>4</td>\n",
       "    </tr>\n",
       "    <tr>\n",
       "      <th>14</th>\n",
       "      <td>../data/imdb_crop/02/nm0000002_rm238734336_192...</td>\n",
       "      <td>[2135.2177839424635, 765.8537799794512, 3499.4...</td>\n",
       "      <td>3</td>\n",
       "    </tr>\n",
       "    <tr>\n",
       "      <th>15</th>\n",
       "      <td>../data/imdb_crop/02/nm0000002_rm2585828096_19...</td>\n",
       "      <td>[70.08922573752601, 87.46603217190751, 225.898...</td>\n",
       "      <td>4</td>\n",
       "    </tr>\n",
       "    <tr>\n",
       "      <th>16</th>\n",
       "      <td>../data/imdb_crop/02/nm0000002_rm2602605312_19...</td>\n",
       "      <td>[52.186, 121.05, 129.12, 197.984]</td>\n",
       "      <td>4</td>\n",
       "    </tr>\n",
       "    <tr>\n",
       "      <th>17</th>\n",
       "      <td>../data/imdb_crop/02/nm0000002_rm2619382528_19...</td>\n",
       "      <td>[213.212, 58.588, 299.584, 144.96]</td>\n",
       "      <td>4</td>\n",
       "    </tr>\n",
       "    <tr>\n",
       "      <th>18</th>\n",
       "      <td>../data/imdb_crop/02/nm0000002_rm2769394176_19...</td>\n",
       "      <td>[109.42467458662298, 82.24100593996724, 231.06...</td>\n",
       "      <td>4</td>\n",
       "    </tr>\n",
       "    <tr>\n",
       "      <th>19</th>\n",
       "      <td>../data/imdb_crop/02/nm0000002_rm2780403712_19...</td>\n",
       "      <td>[117.05057012254504, 74.12636007739687, 171.69...</td>\n",
       "      <td>4</td>\n",
       "    </tr>\n",
       "  </tbody>\n",
       "</table>\n",
       "</div>"
      ],
      "text/plain": [
       "                                                 urls  \\\n",
       "0   ../data/imdb_crop/01/nm0000001_rm124825600_189...   \n",
       "1   ../data/imdb_crop/01/nm0000001_rm3343756032_18...   \n",
       "2   ../data/imdb_crop/01/nm0000001_rm577153792_189...   \n",
       "3   ../data/imdb_crop/01/nm0000001_rm946909184_189...   \n",
       "4   ../data/imdb_crop/01/nm0000001_rm980463616_189...   \n",
       "5   ../data/imdb_crop/02/nm0000002_rm1075631616_19...   \n",
       "6   ../data/imdb_crop/02/nm0000002_rm1346607872_19...   \n",
       "7   ../data/imdb_crop/02/nm0000002_rm1363385088_19...   \n",
       "8   ../data/imdb_crop/02/nm0000002_rm1411175936_19...   \n",
       "9   ../data/imdb_crop/02/nm0000002_rm1447271168_19...   \n",
       "10  ../data/imdb_crop/02/nm0000002_rm1624085760_19...   \n",
       "11  ../data/imdb_crop/02/nm0000002_rm1646056960_19...   \n",
       "12  ../data/imdb_crop/02/nm0000002_rm221957120_192...   \n",
       "13  ../data/imdb_crop/02/nm0000002_rm2287049216_19...   \n",
       "14  ../data/imdb_crop/02/nm0000002_rm238734336_192...   \n",
       "15  ../data/imdb_crop/02/nm0000002_rm2585828096_19...   \n",
       "16  ../data/imdb_crop/02/nm0000002_rm2602605312_19...   \n",
       "17  ../data/imdb_crop/02/nm0000002_rm2619382528_19...   \n",
       "18  ../data/imdb_crop/02/nm0000002_rm2769394176_19...   \n",
       "19  ../data/imdb_crop/02/nm0000002_rm2780403712_19...   \n",
       "\n",
       "                                          face_coords  age_cluster  \n",
       "0   [1072.926, 161.838, 1214.7839999999999, 303.69...            4  \n",
       "1                 [477.184, 100.352, 622.592, 245.76]            4  \n",
       "2   [114.96964308962852, 114.96964308962852, 451.6...            4  \n",
       "3   [622.8855056426588, 424.21750383700805, 844.33...            4  \n",
       "4   [1013.8590023603723, 233.8820422075853, 1201.5...            4  \n",
       "5   [686.6768205940973, 458.4672137293982, 1198.10...            4  \n",
       "6   [78.23569406558903, 52.335129377059346, 194.25...            4  \n",
       "7   [64.30867103752385, 64.30867103752385, 207.267...            4  \n",
       "8   [212.7672369223355, 1055.6441846116777, 526.79...            4  \n",
       "9                  [242.176, 49.664, 278.528, 86.016]            4  \n",
       "10  [108.03894850648923, 28.82624960697085, 158.42...            4  \n",
       "11  [72.28774564077851, 1055.6441846116777, 386.31...            4  \n",
       "12  [3173.144692593433, 401.0408365741791, 4059.15...            3  \n",
       "13  [138.80620247948153, 33.92673852953003, 181.15...            4  \n",
       "14  [2135.2177839424635, 765.8537799794512, 3499.4...            3  \n",
       "15  [70.08922573752601, 87.46603217190751, 225.898...            4  \n",
       "16                  [52.186, 121.05, 129.12, 197.984]            4  \n",
       "17                 [213.212, 58.588, 299.584, 144.96]            4  \n",
       "18  [109.42467458662298, 82.24100593996724, 231.06...            4  \n",
       "19  [117.05057012254504, 74.12636007739687, 171.69...            4  "
      ]
     },
     "execution_count": 69,
     "metadata": {},
     "output_type": "execute_result"
    }
   ],
   "source": [
    "df = pd.DataFrame(result, index=None)\n",
    "print(df.shape)\n",
    "df.head(20)"
   ]
  },
  {
   "cell_type": "code",
   "execution_count": 57,
   "metadata": {},
   "outputs": [],
   "source": [
    "with open('../../csv/total.csv', mode='w', encoding='utf-8') as f_csv:\n",
    "    df.to_csv(f_csv)"
   ]
  },
  {
   "cell_type": "code",
   "execution_count": 76,
   "metadata": {},
   "outputs": [],
   "source": [
    "local_urls = [\n",
    "    '00/nm4415900_rm2517889024_1993-9-9_2015.jpg',\n",
    "    '00/nm0002100_rm985837568_1975-6-18_2011.jpg',\n",
    "    '00/nm0000200_rm2120191744_1955-5-17_2010.jpg',\n",
    "    '00/nm0000100_rm1001569280_1955-1-6_2011.jpg',\n",
    "    '01/nm4652001_rm4133345280_2002-7-23_2013.jpg',\n",
    "    '01/nm2692301_rm3067461376_1984-2-28_2011.jpg',\n",
    "    '01/nm1107001_rm3321071360_1978-9-23_2010.jpg',\n",
    "    '01/nm0365501_rm2791093760_1982-4-6_2011.jpg'\n",
    "]"
   ]
  },
  {
   "cell_type": "code",
   "execution_count": 77,
   "metadata": {},
   "outputs": [
    {
     "name": "stdout",
     "output_type": "stream",
     "text": [
      "['../data/imdb_crop/00/nm4415900_rm2517889024_1993-9-9_2015.jpg', '../data/imdb_crop/00/nm0002100_rm985837568_1975-6-18_2011.jpg', '../data/imdb_crop/00/nm0000200_rm2120191744_1955-5-17_2010.jpg', '../data/imdb_crop/00/nm0000100_rm1001569280_1955-1-6_2011.jpg', '../data/imdb_crop/01/nm4652001_rm4133345280_2002-7-23_2013.jpg', '../data/imdb_crop/01/nm2692301_rm3067461376_1984-2-28_2011.jpg', '../data/imdb_crop/01/nm1107001_rm3321071360_1978-9-23_2010.jpg', '../data/imdb_crop/01/nm0365501_rm2791093760_1982-4-6_2011.jpg']\n"
     ]
    }
   ],
   "source": [
    "local_urls = list(map(lambda url: '../data/imdb_crop/'+url, local_urls))\n",
    "print(local_urls)"
   ]
  },
  {
   "cell_type": "code",
   "execution_count": 78,
   "metadata": {},
   "outputs": [
    {
     "name": "stdout",
     "output_type": "stream",
     "text": [
      "(8, 3)\n"
     ]
    },
    {
     "data": {
      "text/html": [
       "<div>\n",
       "<style scoped>\n",
       "    .dataframe tbody tr th:only-of-type {\n",
       "        vertical-align: middle;\n",
       "    }\n",
       "\n",
       "    .dataframe tbody tr th {\n",
       "        vertical-align: top;\n",
       "    }\n",
       "\n",
       "    .dataframe thead th {\n",
       "        text-align: right;\n",
       "    }\n",
       "</style>\n",
       "<table border=\"1\" class=\"dataframe\">\n",
       "  <thead>\n",
       "    <tr style=\"text-align: right;\">\n",
       "      <th></th>\n",
       "      <th>urls</th>\n",
       "      <th>face_coords</th>\n",
       "      <th>age_cluster</th>\n",
       "    </tr>\n",
       "  </thead>\n",
       "  <tbody>\n",
       "    <tr>\n",
       "      <th>4012</th>\n",
       "      <td>../data/imdb_crop/00/nm0000100_rm1001569280_19...</td>\n",
       "      <td>[547.3336103513901, 79.4762300501986, 896.7266...</td>\n",
       "      <td>3</td>\n",
       "    </tr>\n",
       "    <tr>\n",
       "      <th>28610</th>\n",
       "      <td>../data/imdb_crop/00/nm0000200_rm2120191744_19...</td>\n",
       "      <td>[214.07789842492062, 48.77991254756272, 275.49...</td>\n",
       "      <td>3</td>\n",
       "    </tr>\n",
       "    <tr>\n",
       "      <th>135422</th>\n",
       "      <td>../data/imdb_crop/00/nm0002100_rm985837568_197...</td>\n",
       "      <td>[303.1723815723427, 453.7345723585141, 978.654...</td>\n",
       "      <td>2</td>\n",
       "    </tr>\n",
       "    <tr>\n",
       "      <th>185827</th>\n",
       "      <td>../data/imdb_crop/01/nm1107001_rm3321071360_19...</td>\n",
       "      <td>[85.38616998788248, 85.38616998788248, 237.255...</td>\n",
       "      <td>2</td>\n",
       "    </tr>\n",
       "    <tr>\n",
       "      <th>224698</th>\n",
       "      <td>../data/imdb_crop/00/nm4415900_rm2517889024_19...</td>\n",
       "      <td>[1417.7602885355477, 710.5121442677738, 1993.1...</td>\n",
       "      <td>1</td>\n",
       "    </tr>\n",
       "  </tbody>\n",
       "</table>\n",
       "</div>"
      ],
      "text/plain": [
       "                                                     urls  \\\n",
       "4012    ../data/imdb_crop/00/nm0000100_rm1001569280_19...   \n",
       "28610   ../data/imdb_crop/00/nm0000200_rm2120191744_19...   \n",
       "135422  ../data/imdb_crop/00/nm0002100_rm985837568_197...   \n",
       "185827  ../data/imdb_crop/01/nm1107001_rm3321071360_19...   \n",
       "224698  ../data/imdb_crop/00/nm4415900_rm2517889024_19...   \n",
       "\n",
       "                                              face_coords  age_cluster  \n",
       "4012    [547.3336103513901, 79.4762300501986, 896.7266...            3  \n",
       "28610   [214.07789842492062, 48.77991254756272, 275.49...            3  \n",
       "135422  [303.1723815723427, 453.7345723585141, 978.654...            2  \n",
       "185827  [85.38616998788248, 85.38616998788248, 237.255...            2  \n",
       "224698  [1417.7602885355477, 710.5121442677738, 1993.1...            1  "
      ]
     },
     "execution_count": 78,
     "metadata": {},
     "output_type": "execute_result"
    }
   ],
   "source": [
    "df1 = df.loc[df['urls'].isin(local_urls)]\n",
    "print(df1.shape)\n",
    "df1.head()"
   ]
  },
  {
   "cell_type": "code",
   "execution_count": 79,
   "metadata": {},
   "outputs": [],
   "source": [
    "with open('../../csv/total.csv', mode='w', encoding='utf-8') as f_csv:\n",
    "    df1.to_csv(f_csv)"
   ]
  },
  {
   "cell_type": "code",
   "execution_count": null,
   "metadata": {},
   "outputs": [],
   "source": []
  }
 ],
 "metadata": {
  "kernelspec": {
   "display_name": "Python 3",
   "language": "python",
   "name": "python3"
  },
  "language_info": {
   "codemirror_mode": {
    "name": "ipython",
    "version": 3
   },
   "file_extension": ".py",
   "mimetype": "text/x-python",
   "name": "python",
   "nbconvert_exporter": "python",
   "pygments_lexer": "ipython3",
   "version": "3.7.2"
  }
 },
 "nbformat": 4,
 "nbformat_minor": 2
}
