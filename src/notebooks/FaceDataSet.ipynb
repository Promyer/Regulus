{
 "cells": [
  {
   "cell_type": "code",
   "execution_count": 1,
   "metadata": {},
   "outputs": [],
   "source": [
    "import pandas as pd\n",
    "import numpy as np\n",
    "from skimage import io, transform\n",
    "from torch.utils.data import Dataset\n",
    "import torchvision.transforms as transforms\n",
    "from PIL import Image"
   ]
  },
  {
   "cell_type": "code",
   "execution_count": 3,
   "metadata": {},
   "outputs": [],
   "source": [
    "class FaceDataSet(Dataset):\n",
    "\n",
    "    def __init__(self, csv_file, root_dir, transform=None, target_transform=None):\n",
    "        \"\"\"\n",
    "            csv_file (string): path to total.csv\n",
    "            root_dir (string): path to directory with images\n",
    "                (empty if total.csv contains full path)\n",
    "            transform (callable, optional): optional transform to be applied to sample\n",
    "                (convert image to torch.Tensor by default)\n",
    "            target_transform (callable, optional): optional transform to be applied to target\n",
    "            \n",
    "        \"\"\"\n",
    "        self.meta = pd.read_csv(csv_file, index_col=0)\n",
    "        self.root_dir = root_dir\n",
    "        self.transform = transform\n",
    "        self.target_transform = target_transform\n",
    "\n",
    "    def __len__(self):\n",
    "        return self.meta.shape[0]\n",
    "\n",
    "    def __getitem__(self, idx):\n",
    "        img_name = self.root_dir + self.meta.urls[idx]\n",
    "        image = io.imread(img_name)\n",
    "        pic = Image.open(img_name)\n",
    "        coords_str = self.meta.face_coords[idx]\n",
    "        #coords has string type since saved as csv\n",
    "        coords = [float(x) for x in coords_str[1:-1].split()]\n",
    "        target = self.meta.age_cluster[idx]\n",
    "        #sample = {'pic': pic, 'image': image, 'coords': coords}\n",
    "        sample = image\n",
    "      \n",
    "        if self.transform:\n",
    "            sample = self.transform(sample)\n",
    "        else:\n",
    "            to_tens = transforms.ToTensor()\n",
    "            sample = to_tens(sample)\n",
    "            \n",
    "        if self.target_transform:\n",
    "            target = self.target_transform(target)\n",
    "            \n",
    "        return (sample, target)"
   ]
  },
  {
   "cell_type": "code",
   "execution_count": 12,
   "metadata": {},
   "outputs": [],
   "source": [
    "ds = FaceDataSet('../../csv/total.csv', '../')"
   ]
  },
  {
   "cell_type": "code",
   "execution_count": 13,
   "metadata": {},
   "outputs": [
    {
     "data": {
      "text/html": [
       "<div>\n",
       "<style scoped>\n",
       "    .dataframe tbody tr th:only-of-type {\n",
       "        vertical-align: middle;\n",
       "    }\n",
       "\n",
       "    .dataframe tbody tr th {\n",
       "        vertical-align: top;\n",
       "    }\n",
       "\n",
       "    .dataframe thead th {\n",
       "        text-align: right;\n",
       "    }\n",
       "</style>\n",
       "<table border=\"1\" class=\"dataframe\">\n",
       "  <thead>\n",
       "    <tr style=\"text-align: right;\">\n",
       "      <th></th>\n",
       "      <th>urls</th>\n",
       "      <th>face_coords</th>\n",
       "      <th>age_cluster</th>\n",
       "    </tr>\n",
       "  </thead>\n",
       "  <tbody>\n",
       "    <tr>\n",
       "      <th>4012</th>\n",
       "      <td>../data/imdb_crop/00/nm0000100_rm1001569280_19...</td>\n",
       "      <td>[547.33361035  79.47623005 896.72664558 428.86...</td>\n",
       "      <td>3</td>\n",
       "    </tr>\n",
       "    <tr>\n",
       "      <th>28610</th>\n",
       "      <td>../data/imdb_crop/00/nm0000200_rm2120191744_19...</td>\n",
       "      <td>[214.07789842  48.77991255 275.49664313 110.19...</td>\n",
       "      <td>3</td>\n",
       "    </tr>\n",
       "    <tr>\n",
       "      <th>135422</th>\n",
       "      <td>../data/imdb_crop/00/nm0002100_rm985837568_197...</td>\n",
       "      <td>[ 303.17238157  453.73457236  978.65424011 112...</td>\n",
       "      <td>2</td>\n",
       "    </tr>\n",
       "    <tr>\n",
       "      <th>185827</th>\n",
       "      <td>../data/imdb_crop/01/nm1107001_rm3321071360_19...</td>\n",
       "      <td>[ 85.38616999  85.38616999 237.25567597 237.25...</td>\n",
       "      <td>2</td>\n",
       "    </tr>\n",
       "    <tr>\n",
       "      <th>224698</th>\n",
       "      <td>../data/imdb_crop/00/nm4415900_rm2517889024_19...</td>\n",
       "      <td>[1417.76028854  710.51214427 1993.15386112 128...</td>\n",
       "      <td>1</td>\n",
       "    </tr>\n",
       "    <tr>\n",
       "      <th>350199</th>\n",
       "      <td>../data/imdb_crop/01/nm4652001_rm4133345280_20...</td>\n",
       "      <td>[1427.456  460.8   1572.864  606.208]</td>\n",
       "      <td>0</td>\n",
       "    </tr>\n",
       "    <tr>\n",
       "      <th>369045</th>\n",
       "      <td>../data/imdb_crop/01/nm0365501_rm2791093760_19...</td>\n",
       "      <td>[433.95876134  69.77048476 521.67509889 157.48...</td>\n",
       "      <td>2</td>\n",
       "    </tr>\n",
       "    <tr>\n",
       "      <th>455183</th>\n",
       "      <td>../data/imdb_crop/01/nm2692301_rm3067461376_19...</td>\n",
       "      <td>[115.87385706  85.21256184 183.9677713  153.30...</td>\n",
       "      <td>2</td>\n",
       "    </tr>\n",
       "  </tbody>\n",
       "</table>\n",
       "</div>"
      ],
      "text/plain": [
       "                                                     urls  \\\n",
       "4012    ../data/imdb_crop/00/nm0000100_rm1001569280_19...   \n",
       "28610   ../data/imdb_crop/00/nm0000200_rm2120191744_19...   \n",
       "135422  ../data/imdb_crop/00/nm0002100_rm985837568_197...   \n",
       "185827  ../data/imdb_crop/01/nm1107001_rm3321071360_19...   \n",
       "224698  ../data/imdb_crop/00/nm4415900_rm2517889024_19...   \n",
       "350199  ../data/imdb_crop/01/nm4652001_rm4133345280_20...   \n",
       "369045  ../data/imdb_crop/01/nm0365501_rm2791093760_19...   \n",
       "455183  ../data/imdb_crop/01/nm2692301_rm3067461376_19...   \n",
       "\n",
       "                                              face_coords  age_cluster  \n",
       "4012    [547.33361035  79.47623005 896.72664558 428.86...            3  \n",
       "28610   [214.07789842  48.77991255 275.49664313 110.19...            3  \n",
       "135422  [ 303.17238157  453.73457236  978.65424011 112...            2  \n",
       "185827  [ 85.38616999  85.38616999 237.25567597 237.25...            2  \n",
       "224698  [1417.76028854  710.51214427 1993.15386112 128...            1  \n",
       "350199              [1427.456  460.8   1572.864  606.208]            0  \n",
       "369045  [433.95876134  69.77048476 521.67509889 157.48...            2  \n",
       "455183  [115.87385706  85.21256184 183.9677713  153.30...            2  "
      ]
     },
     "execution_count": 13,
     "metadata": {},
     "output_type": "execute_result"
    }
   ],
   "source": [
    "ds.meta"
   ]
  },
  {
   "cell_type": "code",
   "execution_count": 25,
   "metadata": {},
   "outputs": [
    {
     "name": "stdout",
     "output_type": "stream",
     "text": [
      "3\n",
      "3\n",
      "2\n",
      "2\n",
      "1\n",
      "0\n",
      "2\n",
      "2\n"
     ]
    }
   ],
   "source": [
    "for i in ds.meta.index:\n",
    "    print(ds[i][1])"
   ]
  },
  {
   "cell_type": "code",
   "execution_count": null,
   "metadata": {},
   "outputs": [],
   "source": []
  }
 ],
 "metadata": {
  "kernelspec": {
   "display_name": "Python 3",
   "language": "python",
   "name": "python3"
  },
  "language_info": {
   "codemirror_mode": {
    "name": "ipython",
    "version": 3
   },
   "file_extension": ".py",
   "mimetype": "text/x-python",
   "name": "python",
   "nbconvert_exporter": "python",
   "pygments_lexer": "ipython3",
   "version": "3.7.3"
  }
 },
 "nbformat": 4,
 "nbformat_minor": 2
}
