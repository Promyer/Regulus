{
 "cells": [
  {
   "cell_type": "code",
   "execution_count": 1,
   "metadata": {},
   "outputs": [],
   "source": [
    "import pandas as pd\n",
    "from torch.utils.data import Dataset\n",
    "import albumentations as alb\n",
    "from albumentations import pytorch\n",
    "import cv2"
   ]
  },
  {
   "cell_type": "code",
   "execution_count": 2,
   "metadata": {},
   "outputs": [],
   "source": [
    "class FaceDataSet(Dataset):\n",
    "\n",
    "    def __init__(self, csv_file, root_dir, transform=None, target_transform=None):\n",
    "        \"\"\"\n",
    "            csv_file (string): path to total.csv\n",
    "            root_dir (string): path to directory with images\n",
    "                (empty str if total.csv contains full path)\n",
    "            transform (callable, optional): optional transform to be applied to sample\n",
    "            target_transform (callable, optional): optional transform to be applied to target\n",
    "            \n",
    "        \"\"\"\n",
    "        self.meta = pd.read_csv(csv_file, index_col=0)\n",
    "        self.root_dir = root_dir\n",
    "        self.transform = transform\n",
    "        self.target_transform = target_transform\n",
    "\n",
    "    def __len__(self):\n",
    "        return self.meta.shape[0]\n",
    "\n",
    "    def __getitem__(self, idx):\n",
    "        img_name = self.root_dir + self.meta.urls[idx]\n",
    "        image_ = image = cv2.imread(img_name)\n",
    "        image_ = cv2.cvtColor(image, cv2.COLOR_BGR2RGB)\n",
    "        target = self.meta.age_cluster[idx]\n",
    "        \n",
    "        if (self.transform is None):\n",
    "            self.transform = alb.Compose([\n",
    "            alb.Resize(224, 224),\n",
    "            alb.HorizontalFlip(),\n",
    "            alb.HueSaturationValue(hue_shift_limit=10, sat_shift_limit=10, val_shift_limit=10, p=0.2),\n",
    "            alb.Blur(blur_limit=3, p=0.2),\n",
    "            alb.RandomBrightnessContrast(brightness_limit=0.2, contrast_limit=0.2, p=0.2),\n",
    "            alb.GaussNoise(p=0.1),\n",
    "            alb.pytorch.ToTensor()\n",
    "            ])\n",
    "        augmented = self.transform(image=image_)\n",
    "        image_ = augmented['image']\n",
    "        \n",
    "        if self.target_transform:\n",
    "            target = self.target_transform(target)\n",
    "            \n",
    "        return (image_, target)"
   ]
  }
 ],
 "metadata": {
  "kernelspec": {
   "display_name": "Python 3",
   "language": "python",
   "name": "python3"
  },
  "language_info": {
   "codemirror_mode": {
    "name": "ipython",
    "version": 3
   },
   "file_extension": ".py",
   "mimetype": "text/x-python",
   "name": "python",
   "nbconvert_exporter": "python",
   "pygments_lexer": "ipython3",
   "version": "3.7.3"
  }
 },
 "nbformat": 4,
 "nbformat_minor": 2
}
