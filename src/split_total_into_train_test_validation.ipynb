{
 "cells": [
  {
   "cell_type": "code",
   "execution_count": 4,
   "metadata": {},
   "outputs": [],
   "source": [
    "import pandas as pd\n",
    "from sklearn.model_selection import train_test_split"
   ]
  },
  {
   "cell_type": "code",
   "execution_count": 40,
   "metadata": {},
   "outputs": [
    {
     "name": "stdout",
     "output_type": "stream",
     "text": [
      "(460594, 2)\n",
      "                                                   x   y\n",
      "0  ../data/imdb_crop/01/nm0000001_rm124825600_189...  69\n",
      "1  ../data/imdb_crop/01/nm0000001_rm3343756032_18...  71\n",
      "2  ../data/imdb_crop/01/nm0000001_rm577153792_189...  69\n",
      "3  ../data/imdb_crop/01/nm0000001_rm946909184_189...  69\n",
      "4  ../data/imdb_crop/01/nm0000001_rm980463616_189...  69\n"
     ]
    }
   ],
   "source": [
    "data = pd.read_csv('../csv/total.csv', index_col=0)\n",
    "print(data.shape)\n",
    "print(data.head())"
   ]
  },
  {
   "cell_type": "code",
   "execution_count": 41,
   "metadata": {},
   "outputs": [],
   "source": [
    "y = data.y\n",
    "X = data.x"
   ]
  },
  {
   "cell_type": "code",
   "execution_count": 60,
   "metadata": {},
   "outputs": [],
   "source": [
    "# train-test-validation 8:1:1\n",
    "\n",
    "X_train, X_test, y_train, y_test = train_test_split(X, y, test_size=0.2, random_state=1)\n",
    "\n",
    "X_test, X_val, y_test, y_val = train_test_split(X_test, y_test, test_size=0.5, random_state=1)"
   ]
  },
  {
   "cell_type": "code",
   "execution_count": 61,
   "metadata": {},
   "outputs": [],
   "source": [
    "train = {}\n",
    "train['x'] = X_train\n",
    "train['y'] = y_train\n",
    "\n",
    "test = {}\n",
    "test['x'] = X_test\n",
    "test['y'] = y_test\n",
    "\n",
    "val = {}\n",
    "val['x'] = X_val\n",
    "val['y'] = y_val"
   ]
  },
  {
   "cell_type": "code",
   "execution_count": 62,
   "metadata": {},
   "outputs": [
    {
     "name": "stdout",
     "output_type": "stream",
     "text": [
      "Train shape: (368475, 2)\n"
     ]
    }
   ],
   "source": [
    "df = pd.DataFrame(train, index=None)\n",
    "print(\"Train shape:\", df.shape)\n",
    "with open('../csv/train.csv', mode='w', encoding='utf-8') as f_csv:\n",
    "    df.to_csv(f_csv)"
   ]
  },
  {
   "cell_type": "code",
   "execution_count": 63,
   "metadata": {},
   "outputs": [
    {
     "name": "stdout",
     "output_type": "stream",
     "text": [
      "Test shape: (46059, 2)\n"
     ]
    }
   ],
   "source": [
    "df = pd.DataFrame(test, index=None)\n",
    "print(\"Test shape:\", df.shape)\n",
    "with open('../csv/test.csv', mode='w', encoding='utf-8') as f_csv:\n",
    "    df.to_csv(f_csv)"
   ]
  },
  {
   "cell_type": "code",
   "execution_count": 64,
   "metadata": {},
   "outputs": [
    {
     "name": "stdout",
     "output_type": "stream",
     "text": [
      "Validation shape: (46060, 2)\n"
     ]
    }
   ],
   "source": [
    "df = pd.DataFrame(val, index=None)\n",
    "print(\"Validation shape:\", df.shape)\n",
    "with open('../csv/validation.csv', mode='w', encoding='utf-8') as f_csv:\n",
    "    df.to_csv(f_csv)"
   ]
  },
  {
   "cell_type": "code",
   "execution_count": null,
   "metadata": {},
   "outputs": [],
   "source": []
  }
 ],
 "metadata": {
  "kernelspec": {
   "display_name": "Python 3",
   "language": "python",
   "name": "python3"
  },
  "language_info": {
   "codemirror_mode": {
    "name": "ipython",
    "version": 3
   },
   "file_extension": ".py",
   "mimetype": "text/x-python",
   "name": "python",
   "nbconvert_exporter": "python",
   "pygments_lexer": "ipython3",
   "version": "3.7.2"
  }
 },
 "nbformat": 4,
 "nbformat_minor": 2
}
