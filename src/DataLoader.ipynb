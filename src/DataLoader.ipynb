{
 "cells": [
  {
   "cell_type": "code",
   "execution_count": 1,
   "metadata": {},
   "outputs": [],
   "source": [
    "import pandas as pd\n",
    "import numpy as np\n",
    "from skimage import io, transform\n",
    "from torch.utils.data import Dataset\n",
    "import torchvision.transforms as transforms"
   ]
  },
  {
   "cell_type": "code",
   "execution_count": 2,
   "metadata": {},
   "outputs": [],
   "source": [
    "class DataLoader(Dataset):\n",
    "\n",
    "    def __init__(self, csv_file, root_dir, transform=None, target_transform=None):\n",
    "        \"\"\"\n",
    "            csv_file (string): path to total.csv\n",
    "            root_dir (string): path to directory with images\n",
    "                (empty if total.csv contains full path)\n",
    "            transform (callable, optional): optional transform to be applied to sample\n",
    "                (convert image to torch.Tensor by default)\n",
    "            target_transform (callable, optional): optional transform to be applied to target\n",
    "            \n",
    "        \"\"\"\n",
    "        self.meta = pd.read_csv(csv_file, index_col=0)\n",
    "        self.root_dir = root_dir\n",
    "        self.transform = transform\n",
    "        self.target_transform = target_transform\n",
    "\n",
    "    def __len__(self):\n",
    "        return self.meta.shape[0]\n",
    "\n",
    "    def __getitem__(self, idx):\n",
    "        img_name = self.root_dir + self.meta.urls[idx]\n",
    "        image = io.imread(img_name)\n",
    "        coords_str = self.meta.face_coords[idx]\n",
    "        #coords has string type since saved as csv\n",
    "        coords = [float(x) for x in coords_str[1:-1].split()]\n",
    "        target = self.meta.age_cluster[idx]\n",
    "        sample = {'image': image, 'coords': coords}\n",
    "      \n",
    "        if self.transform:\n",
    "            sample = self.transform(sample)\n",
    "        else:\n",
    "            to_tens = transforms.ToTensor()\n",
    "            sample['image'] = to_tens(sample['image'])\n",
    "            \n",
    "        if self.target_transform:\n",
    "            target = self.target_transform(target)\n",
    "            \n",
    "        return (sample, target)"
   ]
  }
 ],
 "metadata": {
  "kernelspec": {
   "display_name": "Python 3",
   "language": "python",
   "name": "python3"
  },
  "language_info": {
   "codemirror_mode": {
    "name": "ipython",
    "version": 3
   },
   "file_extension": ".py",
   "mimetype": "text/x-python",
   "name": "python",
   "nbconvert_exporter": "python",
   "pygments_lexer": "ipython3",
   "version": "3.7.1"
  }
 },
 "nbformat": 4,
 "nbformat_minor": 2
}
